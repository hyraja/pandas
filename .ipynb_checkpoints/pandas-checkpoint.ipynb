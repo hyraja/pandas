{
 "cells": [
  {
   "cell_type": "code",
   "execution_count": 1,
   "id": "823f7f40",
   "metadata": {},
   "outputs": [],
   "source": [
    "import numpy as np\n",
    "import pandas as pd"
   ]
  },
  {
   "cell_type": "code",
   "execution_count": 2,
   "id": "987d9612",
   "metadata": {},
   "outputs": [],
   "source": [
    "dict1 = {\n",
    "    \"name\" : ['Radhakant','rakesh','suman','patra'],\n",
    "    \"marks\" :[92,34,24,89],\n",
    "    \"city\" : ['keonjhar','nayagard','jajpur','kendrapada']\n",
    "}"
   ]
  },
  {
   "cell_type": "code",
   "execution_count": 3,
   "id": "60631db1",
   "metadata": {},
   "outputs": [],
   "source": [
    "df = pd.DataFrame(dict1)\n",
    "# DataFrame is like a excel sheet, which converts the whole\n",
    "# data for faster indexing and also numpy all function will work here."
   ]
  },
  {
   "cell_type": "markdown",
   "id": "fb7e5de2",
   "metadata": {},
   "source": [
    "# DataFrame to CSV"
   ]
  },
  {
   "cell_type": "code",
   "execution_count": 4,
   "id": "05f92658",
   "metadata": {},
   "outputs": [
    {
     "data": {
      "text/html": [
       "<div>\n",
       "<style scoped>\n",
       "    .dataframe tbody tr th:only-of-type {\n",
       "        vertical-align: middle;\n",
       "    }\n",
       "\n",
       "    .dataframe tbody tr th {\n",
       "        vertical-align: top;\n",
       "    }\n",
       "\n",
       "    .dataframe thead th {\n",
       "        text-align: right;\n",
       "    }\n",
       "</style>\n",
       "<table border=\"1\" class=\"dataframe\">\n",
       "  <thead>\n",
       "    <tr style=\"text-align: right;\">\n",
       "      <th></th>\n",
       "      <th>name</th>\n",
       "      <th>marks</th>\n",
       "      <th>city</th>\n",
       "    </tr>\n",
       "  </thead>\n",
       "  <tbody>\n",
       "    <tr>\n",
       "      <th>0</th>\n",
       "      <td>Radhakant</td>\n",
       "      <td>92</td>\n",
       "      <td>keonjhar</td>\n",
       "    </tr>\n",
       "    <tr>\n",
       "      <th>1</th>\n",
       "      <td>rakesh</td>\n",
       "      <td>34</td>\n",
       "      <td>nayagard</td>\n",
       "    </tr>\n",
       "    <tr>\n",
       "      <th>2</th>\n",
       "      <td>suman</td>\n",
       "      <td>24</td>\n",
       "      <td>jajpur</td>\n",
       "    </tr>\n",
       "    <tr>\n",
       "      <th>3</th>\n",
       "      <td>patra</td>\n",
       "      <td>89</td>\n",
       "      <td>kendrapada</td>\n",
       "    </tr>\n",
       "  </tbody>\n",
       "</table>\n",
       "</div>"
      ],
      "text/plain": [
       "        name  marks        city\n",
       "0  Radhakant     92    keonjhar\n",
       "1     rakesh     34    nayagard\n",
       "2      suman     24      jajpur\n",
       "3      patra     89  kendrapada"
      ]
     },
     "execution_count": 4,
     "metadata": {},
     "output_type": "execute_result"
    }
   ],
   "source": [
    "df\n",
    "# 0123 is called index and name marks city are called column"
   ]
  },
  {
   "cell_type": "code",
   "execution_count": 5,
   "id": "e837da23",
   "metadata": {},
   "outputs": [],
   "source": [
    "df.to_csv('friends.csv')\n",
    "# to_csv is a function which will export all data to csv format."
   ]
  },
  {
   "cell_type": "code",
   "execution_count": 6,
   "id": "80c24aae",
   "metadata": {},
   "outputs": [],
   "source": [
    "df.to_csv('friends_index_false.csv', index=False)\n",
    "# if index=False then it will omit the index part."
   ]
  },
  {
   "cell_type": "code",
   "execution_count": 7,
   "id": "3ed12d12",
   "metadata": {},
   "outputs": [
    {
     "data": {
      "text/html": [
       "<div>\n",
       "<style scoped>\n",
       "    .dataframe tbody tr th:only-of-type {\n",
       "        vertical-align: middle;\n",
       "    }\n",
       "\n",
       "    .dataframe tbody tr th {\n",
       "        vertical-align: top;\n",
       "    }\n",
       "\n",
       "    .dataframe thead th {\n",
       "        text-align: right;\n",
       "    }\n",
       "</style>\n",
       "<table border=\"1\" class=\"dataframe\">\n",
       "  <thead>\n",
       "    <tr style=\"text-align: right;\">\n",
       "      <th></th>\n",
       "      <th>name</th>\n",
       "      <th>marks</th>\n",
       "      <th>city</th>\n",
       "    </tr>\n",
       "  </thead>\n",
       "  <tbody>\n",
       "    <tr>\n",
       "      <th>0</th>\n",
       "      <td>Radhakant</td>\n",
       "      <td>92</td>\n",
       "      <td>keonjhar</td>\n",
       "    </tr>\n",
       "    <tr>\n",
       "      <th>1</th>\n",
       "      <td>rakesh</td>\n",
       "      <td>34</td>\n",
       "      <td>nayagard</td>\n",
       "    </tr>\n",
       "  </tbody>\n",
       "</table>\n",
       "</div>"
      ],
      "text/plain": [
       "        name  marks      city\n",
       "0  Radhakant     92  keonjhar\n",
       "1     rakesh     34  nayagard"
      ]
     },
     "execution_count": 7,
     "metadata": {},
     "output_type": "execute_result"
    }
   ],
   "source": [
    "df.head(2)\n",
    "# it will show first 2 rows data"
   ]
  },
  {
   "cell_type": "code",
   "execution_count": 8,
   "id": "d6dba110",
   "metadata": {},
   "outputs": [
    {
     "data": {
      "text/html": [
       "<div>\n",
       "<style scoped>\n",
       "    .dataframe tbody tr th:only-of-type {\n",
       "        vertical-align: middle;\n",
       "    }\n",
       "\n",
       "    .dataframe tbody tr th {\n",
       "        vertical-align: top;\n",
       "    }\n",
       "\n",
       "    .dataframe thead th {\n",
       "        text-align: right;\n",
       "    }\n",
       "</style>\n",
       "<table border=\"1\" class=\"dataframe\">\n",
       "  <thead>\n",
       "    <tr style=\"text-align: right;\">\n",
       "      <th></th>\n",
       "      <th>name</th>\n",
       "      <th>marks</th>\n",
       "      <th>city</th>\n",
       "    </tr>\n",
       "  </thead>\n",
       "  <tbody>\n",
       "    <tr>\n",
       "      <th>2</th>\n",
       "      <td>suman</td>\n",
       "      <td>24</td>\n",
       "      <td>jajpur</td>\n",
       "    </tr>\n",
       "    <tr>\n",
       "      <th>3</th>\n",
       "      <td>patra</td>\n",
       "      <td>89</td>\n",
       "      <td>kendrapada</td>\n",
       "    </tr>\n",
       "  </tbody>\n",
       "</table>\n",
       "</div>"
      ],
      "text/plain": [
       "    name  marks        city\n",
       "2  suman     24      jajpur\n",
       "3  patra     89  kendrapada"
      ]
     },
     "execution_count": 8,
     "metadata": {},
     "output_type": "execute_result"
    }
   ],
   "source": [
    "df.tail(2)\n",
    "# it will show last 2 rows data"
   ]
  },
  {
   "cell_type": "code",
   "execution_count": 9,
   "id": "7ad41bcf",
   "metadata": {},
   "outputs": [
    {
     "data": {
      "text/html": [
       "<div>\n",
       "<style scoped>\n",
       "    .dataframe tbody tr th:only-of-type {\n",
       "        vertical-align: middle;\n",
       "    }\n",
       "\n",
       "    .dataframe tbody tr th {\n",
       "        vertical-align: top;\n",
       "    }\n",
       "\n",
       "    .dataframe thead th {\n",
       "        text-align: right;\n",
       "    }\n",
       "</style>\n",
       "<table border=\"1\" class=\"dataframe\">\n",
       "  <thead>\n",
       "    <tr style=\"text-align: right;\">\n",
       "      <th></th>\n",
       "      <th>marks</th>\n",
       "    </tr>\n",
       "  </thead>\n",
       "  <tbody>\n",
       "    <tr>\n",
       "      <th>count</th>\n",
       "      <td>4.000000</td>\n",
       "    </tr>\n",
       "    <tr>\n",
       "      <th>mean</th>\n",
       "      <td>59.750000</td>\n",
       "    </tr>\n",
       "    <tr>\n",
       "      <th>std</th>\n",
       "      <td>35.761944</td>\n",
       "    </tr>\n",
       "    <tr>\n",
       "      <th>min</th>\n",
       "      <td>24.000000</td>\n",
       "    </tr>\n",
       "    <tr>\n",
       "      <th>25%</th>\n",
       "      <td>31.500000</td>\n",
       "    </tr>\n",
       "    <tr>\n",
       "      <th>50%</th>\n",
       "      <td>61.500000</td>\n",
       "    </tr>\n",
       "    <tr>\n",
       "      <th>75%</th>\n",
       "      <td>89.750000</td>\n",
       "    </tr>\n",
       "    <tr>\n",
       "      <th>max</th>\n",
       "      <td>92.000000</td>\n",
       "    </tr>\n",
       "  </tbody>\n",
       "</table>\n",
       "</div>"
      ],
      "text/plain": [
       "           marks\n",
       "count   4.000000\n",
       "mean   59.750000\n",
       "std    35.761944\n",
       "min    24.000000\n",
       "25%    31.500000\n",
       "50%    61.500000\n",
       "75%    89.750000\n",
       "max    92.000000"
      ]
     },
     "execution_count": 9,
     "metadata": {},
     "output_type": "execute_result"
    }
   ],
   "source": [
    "df.describe()"
   ]
  },
  {
   "cell_type": "markdown",
   "id": "0536b6be",
   "metadata": {},
   "source": [
    "# read csv"
   ]
  },
  {
   "cell_type": "code",
   "execution_count": 10,
   "id": "2feeffb2",
   "metadata": {},
   "outputs": [],
   "source": [
    "train = pd.read_csv('friends.csv')"
   ]
  },
  {
   "cell_type": "code",
   "execution_count": 11,
   "id": "e0129ddd",
   "metadata": {},
   "outputs": [
    {
     "data": {
      "text/html": [
       "<div>\n",
       "<style scoped>\n",
       "    .dataframe tbody tr th:only-of-type {\n",
       "        vertical-align: middle;\n",
       "    }\n",
       "\n",
       "    .dataframe tbody tr th {\n",
       "        vertical-align: top;\n",
       "    }\n",
       "\n",
       "    .dataframe thead th {\n",
       "        text-align: right;\n",
       "    }\n",
       "</style>\n",
       "<table border=\"1\" class=\"dataframe\">\n",
       "  <thead>\n",
       "    <tr style=\"text-align: right;\">\n",
       "      <th></th>\n",
       "      <th>Unnamed: 0</th>\n",
       "      <th>name</th>\n",
       "      <th>marks</th>\n",
       "      <th>city</th>\n",
       "    </tr>\n",
       "  </thead>\n",
       "  <tbody>\n",
       "    <tr>\n",
       "      <th>0</th>\n",
       "      <td>0</td>\n",
       "      <td>Radhakant</td>\n",
       "      <td>92</td>\n",
       "      <td>keonjhar</td>\n",
       "    </tr>\n",
       "    <tr>\n",
       "      <th>1</th>\n",
       "      <td>1</td>\n",
       "      <td>rakesh</td>\n",
       "      <td>34</td>\n",
       "      <td>nayagard</td>\n",
       "    </tr>\n",
       "    <tr>\n",
       "      <th>2</th>\n",
       "      <td>2</td>\n",
       "      <td>suman</td>\n",
       "      <td>24</td>\n",
       "      <td>jajpur</td>\n",
       "    </tr>\n",
       "    <tr>\n",
       "      <th>3</th>\n",
       "      <td>3</td>\n",
       "      <td>patra</td>\n",
       "      <td>89</td>\n",
       "      <td>kendrapada</td>\n",
       "    </tr>\n",
       "  </tbody>\n",
       "</table>\n",
       "</div>"
      ],
      "text/plain": [
       "   Unnamed: 0       name  marks        city\n",
       "0           0  Radhakant     92    keonjhar\n",
       "1           1     rakesh     34    nayagard\n",
       "2           2      suman     24      jajpur\n",
       "3           3      patra     89  kendrapada"
      ]
     },
     "execution_count": 11,
     "metadata": {},
     "output_type": "execute_result"
    }
   ],
   "source": [
    "train"
   ]
  },
  {
   "cell_type": "code",
   "execution_count": 12,
   "id": "fc97df62",
   "metadata": {},
   "outputs": [
    {
     "data": {
      "text/plain": [
       "0    92\n",
       "1    34\n",
       "2    24\n",
       "3    89\n",
       "Name: marks, dtype: int64"
      ]
     },
     "execution_count": 12,
     "metadata": {},
     "output_type": "execute_result"
    }
   ],
   "source": [
    "train['marks']"
   ]
  },
  {
   "cell_type": "code",
   "execution_count": 13,
   "id": "d31083af",
   "metadata": {},
   "outputs": [
    {
     "data": {
      "text/plain": [
       "92"
      ]
     },
     "execution_count": 13,
     "metadata": {},
     "output_type": "execute_result"
    }
   ],
   "source": [
    "train['marks'][0]"
   ]
  },
  {
   "cell_type": "code",
   "execution_count": 14,
   "id": "2b83ab15",
   "metadata": {},
   "outputs": [
    {
     "name": "stderr",
     "output_type": "stream",
     "text": [
      "<ipython-input-14-9730f545215d>:1: SettingWithCopyWarning: \n",
      "A value is trying to be set on a copy of a slice from a DataFrame\n",
      "\n",
      "See the caveats in the documentation: https://pandas.pydata.org/pandas-docs/stable/user_guide/indexing.html#returning-a-view-versus-a-copy\n",
      "  train['marks'][0] =50\n"
     ]
    }
   ],
   "source": [
    "train['marks'][0] =50"
   ]
  },
  {
   "cell_type": "code",
   "execution_count": 15,
   "id": "8c22d2bc",
   "metadata": {},
   "outputs": [
    {
     "data": {
      "text/html": [
       "<div>\n",
       "<style scoped>\n",
       "    .dataframe tbody tr th:only-of-type {\n",
       "        vertical-align: middle;\n",
       "    }\n",
       "\n",
       "    .dataframe tbody tr th {\n",
       "        vertical-align: top;\n",
       "    }\n",
       "\n",
       "    .dataframe thead th {\n",
       "        text-align: right;\n",
       "    }\n",
       "</style>\n",
       "<table border=\"1\" class=\"dataframe\">\n",
       "  <thead>\n",
       "    <tr style=\"text-align: right;\">\n",
       "      <th></th>\n",
       "      <th>Unnamed: 0</th>\n",
       "      <th>name</th>\n",
       "      <th>marks</th>\n",
       "      <th>city</th>\n",
       "    </tr>\n",
       "  </thead>\n",
       "  <tbody>\n",
       "    <tr>\n",
       "      <th>0</th>\n",
       "      <td>0</td>\n",
       "      <td>Radhakant</td>\n",
       "      <td>50</td>\n",
       "      <td>keonjhar</td>\n",
       "    </tr>\n",
       "    <tr>\n",
       "      <th>1</th>\n",
       "      <td>1</td>\n",
       "      <td>rakesh</td>\n",
       "      <td>34</td>\n",
       "      <td>nayagard</td>\n",
       "    </tr>\n",
       "    <tr>\n",
       "      <th>2</th>\n",
       "      <td>2</td>\n",
       "      <td>suman</td>\n",
       "      <td>24</td>\n",
       "      <td>jajpur</td>\n",
       "    </tr>\n",
       "    <tr>\n",
       "      <th>3</th>\n",
       "      <td>3</td>\n",
       "      <td>patra</td>\n",
       "      <td>89</td>\n",
       "      <td>kendrapada</td>\n",
       "    </tr>\n",
       "  </tbody>\n",
       "</table>\n",
       "</div>"
      ],
      "text/plain": [
       "   Unnamed: 0       name  marks        city\n",
       "0           0  Radhakant     50    keonjhar\n",
       "1           1     rakesh     34    nayagard\n",
       "2           2      suman     24      jajpur\n",
       "3           3      patra     89  kendrapada"
      ]
     },
     "execution_count": 15,
     "metadata": {},
     "output_type": "execute_result"
    }
   ],
   "source": [
    "train"
   ]
  },
  {
   "cell_type": "code",
   "execution_count": 16,
   "id": "4ee82c94",
   "metadata": {},
   "outputs": [],
   "source": [
    "train.to_csv('friends.csv')\n",
    "# saving modified csv"
   ]
  },
  {
   "cell_type": "code",
   "execution_count": 17,
   "id": "af0f538f",
   "metadata": {},
   "outputs": [],
   "source": [
    "# changing index\n",
    "train.index = ['first','second','third','fourth']"
   ]
  },
  {
   "cell_type": "code",
   "execution_count": 18,
   "id": "e0f8b5ed",
   "metadata": {},
   "outputs": [
    {
     "data": {
      "text/html": [
       "<div>\n",
       "<style scoped>\n",
       "    .dataframe tbody tr th:only-of-type {\n",
       "        vertical-align: middle;\n",
       "    }\n",
       "\n",
       "    .dataframe tbody tr th {\n",
       "        vertical-align: top;\n",
       "    }\n",
       "\n",
       "    .dataframe thead th {\n",
       "        text-align: right;\n",
       "    }\n",
       "</style>\n",
       "<table border=\"1\" class=\"dataframe\">\n",
       "  <thead>\n",
       "    <tr style=\"text-align: right;\">\n",
       "      <th></th>\n",
       "      <th>Unnamed: 0</th>\n",
       "      <th>name</th>\n",
       "      <th>marks</th>\n",
       "      <th>city</th>\n",
       "    </tr>\n",
       "  </thead>\n",
       "  <tbody>\n",
       "    <tr>\n",
       "      <th>first</th>\n",
       "      <td>0</td>\n",
       "      <td>Radhakant</td>\n",
       "      <td>50</td>\n",
       "      <td>keonjhar</td>\n",
       "    </tr>\n",
       "    <tr>\n",
       "      <th>second</th>\n",
       "      <td>1</td>\n",
       "      <td>rakesh</td>\n",
       "      <td>34</td>\n",
       "      <td>nayagard</td>\n",
       "    </tr>\n",
       "    <tr>\n",
       "      <th>third</th>\n",
       "      <td>2</td>\n",
       "      <td>suman</td>\n",
       "      <td>24</td>\n",
       "      <td>jajpur</td>\n",
       "    </tr>\n",
       "    <tr>\n",
       "      <th>fourth</th>\n",
       "      <td>3</td>\n",
       "      <td>patra</td>\n",
       "      <td>89</td>\n",
       "      <td>kendrapada</td>\n",
       "    </tr>\n",
       "  </tbody>\n",
       "</table>\n",
       "</div>"
      ],
      "text/plain": [
       "        Unnamed: 0       name  marks        city\n",
       "first            0  Radhakant     50    keonjhar\n",
       "second           1     rakesh     34    nayagard\n",
       "third            2      suman     24      jajpur\n",
       "fourth           3      patra     89  kendrapada"
      ]
     },
     "execution_count": 18,
     "metadata": {},
     "output_type": "execute_result"
    }
   ],
   "source": [
    "train"
   ]
  },
  {
   "cell_type": "markdown",
   "id": "d3f542cc",
   "metadata": {},
   "source": [
    "# DataFrame vs Series\n",
    "#### DataFrame creates in the combination of Series"
   ]
  },
  {
   "cell_type": "code",
   "execution_count": 19,
   "id": "2e03b4ab",
   "metadata": {},
   "outputs": [
    {
     "data": {
      "text/plain": [
       "pandas.core.series.Series"
      ]
     },
     "execution_count": 19,
     "metadata": {},
     "output_type": "execute_result"
    }
   ],
   "source": [
    "# series(single row or column value of a DataFrame)\n",
    "x =train['name']\n",
    "type(x)"
   ]
  },
  {
   "cell_type": "code",
   "execution_count": 20,
   "id": "40c42b31",
   "metadata": {},
   "outputs": [
    {
     "data": {
      "text/plain": [
       "pandas.core.frame.DataFrame"
      ]
     },
     "execution_count": 20,
     "metadata": {},
     "output_type": "execute_result"
    }
   ],
   "source": [
    "# dataframe\n",
    "type(train)"
   ]
  },
  {
   "cell_type": "code",
   "execution_count": 21,
   "id": "7206bee9",
   "metadata": {},
   "outputs": [],
   "source": [
    "ser = pd.Series(np.random.rand(34))"
   ]
  },
  {
   "cell_type": "code",
   "execution_count": 22,
   "id": "fde45edb",
   "metadata": {},
   "outputs": [
    {
     "data": {
      "text/plain": [
       "0    0.183230\n",
       "1    0.632610\n",
       "2    0.336689\n",
       "3    0.227356\n",
       "4    0.497334\n",
       "dtype: float64"
      ]
     },
     "execution_count": 22,
     "metadata": {},
     "output_type": "execute_result"
    }
   ],
   "source": [
    "ser.head()"
   ]
  },
  {
   "cell_type": "code",
   "execution_count": 23,
   "id": "cc995e9e",
   "metadata": {},
   "outputs": [
    {
     "data": {
      "text/plain": [
       "pandas.core.series.Series"
      ]
     },
     "execution_count": 23,
     "metadata": {},
     "output_type": "execute_result"
    }
   ],
   "source": [
    "type(ser)"
   ]
  },
  {
   "cell_type": "code",
   "execution_count": 24,
   "id": "7764a1ac",
   "metadata": {},
   "outputs": [],
   "source": [
    "# DataFrame\n",
    "newdf = pd.DataFrame(np.random.rand(334,5),index=np.arange(334))"
   ]
  },
  {
   "cell_type": "code",
   "execution_count": 25,
   "id": "6ef22d7c",
   "metadata": {},
   "outputs": [
    {
     "data": {
      "text/html": [
       "<div>\n",
       "<style scoped>\n",
       "    .dataframe tbody tr th:only-of-type {\n",
       "        vertical-align: middle;\n",
       "    }\n",
       "\n",
       "    .dataframe tbody tr th {\n",
       "        vertical-align: top;\n",
       "    }\n",
       "\n",
       "    .dataframe thead th {\n",
       "        text-align: right;\n",
       "    }\n",
       "</style>\n",
       "<table border=\"1\" class=\"dataframe\">\n",
       "  <thead>\n",
       "    <tr style=\"text-align: right;\">\n",
       "      <th></th>\n",
       "      <th>0</th>\n",
       "      <th>1</th>\n",
       "      <th>2</th>\n",
       "      <th>3</th>\n",
       "      <th>4</th>\n",
       "    </tr>\n",
       "  </thead>\n",
       "  <tbody>\n",
       "    <tr>\n",
       "      <th>0</th>\n",
       "      <td>0.801871</td>\n",
       "      <td>0.451231</td>\n",
       "      <td>0.391120</td>\n",
       "      <td>0.075522</td>\n",
       "      <td>0.318420</td>\n",
       "    </tr>\n",
       "    <tr>\n",
       "      <th>1</th>\n",
       "      <td>0.556813</td>\n",
       "      <td>0.030761</td>\n",
       "      <td>0.314216</td>\n",
       "      <td>0.265978</td>\n",
       "      <td>0.439652</td>\n",
       "    </tr>\n",
       "    <tr>\n",
       "      <th>2</th>\n",
       "      <td>0.455705</td>\n",
       "      <td>0.677092</td>\n",
       "      <td>0.827952</td>\n",
       "      <td>0.149986</td>\n",
       "      <td>0.771090</td>\n",
       "    </tr>\n",
       "    <tr>\n",
       "      <th>3</th>\n",
       "      <td>0.165096</td>\n",
       "      <td>0.874907</td>\n",
       "      <td>0.583527</td>\n",
       "      <td>0.874514</td>\n",
       "      <td>0.490397</td>\n",
       "    </tr>\n",
       "    <tr>\n",
       "      <th>4</th>\n",
       "      <td>0.598960</td>\n",
       "      <td>0.300733</td>\n",
       "      <td>0.499311</td>\n",
       "      <td>0.867183</td>\n",
       "      <td>0.889457</td>\n",
       "    </tr>\n",
       "  </tbody>\n",
       "</table>\n",
       "</div>"
      ],
      "text/plain": [
       "          0         1         2         3         4\n",
       "0  0.801871  0.451231  0.391120  0.075522  0.318420\n",
       "1  0.556813  0.030761  0.314216  0.265978  0.439652\n",
       "2  0.455705  0.677092  0.827952  0.149986  0.771090\n",
       "3  0.165096  0.874907  0.583527  0.874514  0.490397\n",
       "4  0.598960  0.300733  0.499311  0.867183  0.889457"
      ]
     },
     "execution_count": 25,
     "metadata": {},
     "output_type": "execute_result"
    }
   ],
   "source": [
    "#newdf\n",
    "newdf.head()"
   ]
  },
  {
   "cell_type": "code",
   "execution_count": 26,
   "id": "a36a1e8e",
   "metadata": {},
   "outputs": [
    {
     "data": {
      "text/plain": [
       "pandas.core.frame.DataFrame"
      ]
     },
     "execution_count": 26,
     "metadata": {},
     "output_type": "execute_result"
    }
   ],
   "source": [
    "type(newdf)"
   ]
  },
  {
   "cell_type": "code",
   "execution_count": 27,
   "id": "8f6f6c85",
   "metadata": {},
   "outputs": [
    {
     "data": {
      "text/html": [
       "<div>\n",
       "<style scoped>\n",
       "    .dataframe tbody tr th:only-of-type {\n",
       "        vertical-align: middle;\n",
       "    }\n",
       "\n",
       "    .dataframe tbody tr th {\n",
       "        vertical-align: top;\n",
       "    }\n",
       "\n",
       "    .dataframe thead th {\n",
       "        text-align: right;\n",
       "    }\n",
       "</style>\n",
       "<table border=\"1\" class=\"dataframe\">\n",
       "  <thead>\n",
       "    <tr style=\"text-align: right;\">\n",
       "      <th></th>\n",
       "      <th>0</th>\n",
       "      <th>1</th>\n",
       "      <th>2</th>\n",
       "      <th>3</th>\n",
       "      <th>4</th>\n",
       "    </tr>\n",
       "  </thead>\n",
       "  <tbody>\n",
       "    <tr>\n",
       "      <th>count</th>\n",
       "      <td>334.000000</td>\n",
       "      <td>334.000000</td>\n",
       "      <td>334.000000</td>\n",
       "      <td>334.000000</td>\n",
       "      <td>334.000000</td>\n",
       "    </tr>\n",
       "    <tr>\n",
       "      <th>mean</th>\n",
       "      <td>0.506767</td>\n",
       "      <td>0.501111</td>\n",
       "      <td>0.511791</td>\n",
       "      <td>0.498454</td>\n",
       "      <td>0.502089</td>\n",
       "    </tr>\n",
       "    <tr>\n",
       "      <th>std</th>\n",
       "      <td>0.298000</td>\n",
       "      <td>0.275252</td>\n",
       "      <td>0.290281</td>\n",
       "      <td>0.300417</td>\n",
       "      <td>0.285925</td>\n",
       "    </tr>\n",
       "    <tr>\n",
       "      <th>min</th>\n",
       "      <td>0.000866</td>\n",
       "      <td>0.000622</td>\n",
       "      <td>0.002188</td>\n",
       "      <td>0.003893</td>\n",
       "      <td>0.001392</td>\n",
       "    </tr>\n",
       "    <tr>\n",
       "      <th>25%</th>\n",
       "      <td>0.248698</td>\n",
       "      <td>0.289216</td>\n",
       "      <td>0.256049</td>\n",
       "      <td>0.239434</td>\n",
       "      <td>0.248460</td>\n",
       "    </tr>\n",
       "    <tr>\n",
       "      <th>50%</th>\n",
       "      <td>0.481864</td>\n",
       "      <td>0.512057</td>\n",
       "      <td>0.542685</td>\n",
       "      <td>0.493825</td>\n",
       "      <td>0.522731</td>\n",
       "    </tr>\n",
       "    <tr>\n",
       "      <th>75%</th>\n",
       "      <td>0.778366</td>\n",
       "      <td>0.711878</td>\n",
       "      <td>0.767283</td>\n",
       "      <td>0.768754</td>\n",
       "      <td>0.752194</td>\n",
       "    </tr>\n",
       "    <tr>\n",
       "      <th>max</th>\n",
       "      <td>0.996157</td>\n",
       "      <td>0.991804</td>\n",
       "      <td>0.999180</td>\n",
       "      <td>0.999047</td>\n",
       "      <td>0.998835</td>\n",
       "    </tr>\n",
       "  </tbody>\n",
       "</table>\n",
       "</div>"
      ],
      "text/plain": [
       "                0           1           2           3           4\n",
       "count  334.000000  334.000000  334.000000  334.000000  334.000000\n",
       "mean     0.506767    0.501111    0.511791    0.498454    0.502089\n",
       "std      0.298000    0.275252    0.290281    0.300417    0.285925\n",
       "min      0.000866    0.000622    0.002188    0.003893    0.001392\n",
       "25%      0.248698    0.289216    0.256049    0.239434    0.248460\n",
       "50%      0.481864    0.512057    0.542685    0.493825    0.522731\n",
       "75%      0.778366    0.711878    0.767283    0.768754    0.752194\n",
       "max      0.996157    0.991804    0.999180    0.999047    0.998835"
      ]
     },
     "execution_count": 27,
     "metadata": {},
     "output_type": "execute_result"
    }
   ],
   "source": [
    "newdf.describe()"
   ]
  },
  {
   "cell_type": "code",
   "execution_count": 28,
   "id": "4ad790ea",
   "metadata": {},
   "outputs": [
    {
     "data": {
      "text/plain": [
       "0    float64\n",
       "1    float64\n",
       "2    float64\n",
       "3    float64\n",
       "4    float64\n",
       "dtype: object"
      ]
     },
     "execution_count": 28,
     "metadata": {},
     "output_type": "execute_result"
    }
   ],
   "source": [
    "newdf.dtypes"
   ]
  },
  {
   "cell_type": "code",
   "execution_count": 29,
   "id": "222a40d8",
   "metadata": {},
   "outputs": [
    {
     "data": {
      "text/html": [
       "<div>\n",
       "<style scoped>\n",
       "    .dataframe tbody tr th:only-of-type {\n",
       "        vertical-align: middle;\n",
       "    }\n",
       "\n",
       "    .dataframe tbody tr th {\n",
       "        vertical-align: top;\n",
       "    }\n",
       "\n",
       "    .dataframe thead th {\n",
       "        text-align: right;\n",
       "    }\n",
       "</style>\n",
       "<table border=\"1\" class=\"dataframe\">\n",
       "  <thead>\n",
       "    <tr style=\"text-align: right;\">\n",
       "      <th></th>\n",
       "      <th>0</th>\n",
       "      <th>1</th>\n",
       "      <th>2</th>\n",
       "      <th>3</th>\n",
       "      <th>4</th>\n",
       "    </tr>\n",
       "  </thead>\n",
       "  <tbody>\n",
       "    <tr>\n",
       "      <th>0</th>\n",
       "      <td>0.801871</td>\n",
       "      <td>0.451231</td>\n",
       "      <td>0.391120</td>\n",
       "      <td>0.075522</td>\n",
       "      <td>0.318420</td>\n",
       "    </tr>\n",
       "    <tr>\n",
       "      <th>1</th>\n",
       "      <td>0.556813</td>\n",
       "      <td>0.030761</td>\n",
       "      <td>0.314216</td>\n",
       "      <td>0.265978</td>\n",
       "      <td>0.439652</td>\n",
       "    </tr>\n",
       "    <tr>\n",
       "      <th>2</th>\n",
       "      <td>0.455705</td>\n",
       "      <td>0.677092</td>\n",
       "      <td>0.827952</td>\n",
       "      <td>0.149986</td>\n",
       "      <td>0.771090</td>\n",
       "    </tr>\n",
       "    <tr>\n",
       "      <th>3</th>\n",
       "      <td>0.165096</td>\n",
       "      <td>0.874907</td>\n",
       "      <td>0.583527</td>\n",
       "      <td>0.874514</td>\n",
       "      <td>0.490397</td>\n",
       "    </tr>\n",
       "    <tr>\n",
       "      <th>4</th>\n",
       "      <td>0.598960</td>\n",
       "      <td>0.300733</td>\n",
       "      <td>0.499311</td>\n",
       "      <td>0.867183</td>\n",
       "      <td>0.889457</td>\n",
       "    </tr>\n",
       "  </tbody>\n",
       "</table>\n",
       "</div>"
      ],
      "text/plain": [
       "          0         1         2         3         4\n",
       "0  0.801871  0.451231  0.391120  0.075522  0.318420\n",
       "1  0.556813  0.030761  0.314216  0.265978  0.439652\n",
       "2  0.455705  0.677092  0.827952  0.149986  0.771090\n",
       "3  0.165096  0.874907  0.583527  0.874514  0.490397\n",
       "4  0.598960  0.300733  0.499311  0.867183  0.889457"
      ]
     },
     "execution_count": 29,
     "metadata": {},
     "output_type": "execute_result"
    }
   ],
   "source": [
    "newdf.head()"
   ]
  },
  {
   "cell_type": "code",
   "execution_count": 30,
   "id": "9abcbfd6",
   "metadata": {},
   "outputs": [],
   "source": [
    "# in head command all the columns value is float64 \n",
    "# if i change any one value to string then dtypes converts to object.\n",
    "newdf[0][0] = 'raja'"
   ]
  },
  {
   "cell_type": "code",
   "execution_count": 31,
   "id": "8a9bb746",
   "metadata": {},
   "outputs": [
    {
     "data": {
      "text/plain": [
       "0     object\n",
       "1    float64\n",
       "2    float64\n",
       "3    float64\n",
       "4    float64\n",
       "dtype: object"
      ]
     },
     "execution_count": 31,
     "metadata": {},
     "output_type": "execute_result"
    }
   ],
   "source": [
    "#newdf.head()\n",
    "newdf.dtypes"
   ]
  },
  {
   "cell_type": "code",
   "execution_count": 32,
   "id": "366a5b18",
   "metadata": {},
   "outputs": [
    {
     "data": {
      "text/plain": [
       "Int64Index([  0,   1,   2,   3,   4,   5,   6,   7,   8,   9,\n",
       "            ...\n",
       "            324, 325, 326, 327, 328, 329, 330, 331, 332, 333],\n",
       "           dtype='int64', length=334)"
      ]
     },
     "execution_count": 32,
     "metadata": {},
     "output_type": "execute_result"
    }
   ],
   "source": [
    "# only index\n",
    "newdf.index"
   ]
  },
  {
   "cell_type": "code",
   "execution_count": 33,
   "id": "2e1fafb2",
   "metadata": {},
   "outputs": [
    {
     "data": {
      "text/plain": [
       "RangeIndex(start=0, stop=5, step=1)"
      ]
     },
     "execution_count": 33,
     "metadata": {},
     "output_type": "execute_result"
    }
   ],
   "source": [
    "#only columns\n",
    "newdf.columns"
   ]
  },
  {
   "cell_type": "markdown",
   "id": "8b39e4ea",
   "metadata": {},
   "source": [
    "# DataFrame to numpy array"
   ]
  },
  {
   "cell_type": "code",
   "execution_count": 34,
   "id": "8b1c75db",
   "metadata": {},
   "outputs": [
    {
     "data": {
      "text/plain": [
       "<bound method DataFrame.to_numpy of             0         1         2         3         4\n",
       "0        raja  0.451231  0.391120  0.075522  0.318420\n",
       "1    0.556813  0.030761  0.314216  0.265978  0.439652\n",
       "2    0.455705  0.677092  0.827952  0.149986  0.771090\n",
       "3    0.165096  0.874907  0.583527  0.874514  0.490397\n",
       "4     0.59896  0.300733  0.499311  0.867183  0.889457\n",
       "..        ...       ...       ...       ...       ...\n",
       "329  0.835892  0.447677  0.099733  0.486905  0.347216\n",
       "330  0.743749  0.907729  0.998722  0.039744  0.223168\n",
       "331  0.127311  0.017400  0.546463  0.554705  0.280179\n",
       "332  0.624908  0.000622  0.008991  0.020568  0.790809\n",
       "333  0.318989  0.583389  0.820445  0.952252  0.998835\n",
       "\n",
       "[334 rows x 5 columns]>"
      ]
     },
     "execution_count": 34,
     "metadata": {},
     "output_type": "execute_result"
    }
   ],
   "source": [
    "# converts to numpy array\n",
    "newdf.to_numpy"
   ]
  },
  {
   "cell_type": "markdown",
   "id": "989c47e7",
   "metadata": {},
   "source": [
    "# Transpose DataFrame"
   ]
  },
  {
   "cell_type": "code",
   "execution_count": 35,
   "id": "f4f8e3f7",
   "metadata": {},
   "outputs": [
    {
     "data": {
      "text/html": [
       "<div>\n",
       "<style scoped>\n",
       "    .dataframe tbody tr th:only-of-type {\n",
       "        vertical-align: middle;\n",
       "    }\n",
       "\n",
       "    .dataframe tbody tr th {\n",
       "        vertical-align: top;\n",
       "    }\n",
       "\n",
       "    .dataframe thead th {\n",
       "        text-align: right;\n",
       "    }\n",
       "</style>\n",
       "<table border=\"1\" class=\"dataframe\">\n",
       "  <thead>\n",
       "    <tr style=\"text-align: right;\">\n",
       "      <th></th>\n",
       "      <th>0</th>\n",
       "      <th>1</th>\n",
       "      <th>2</th>\n",
       "      <th>3</th>\n",
       "      <th>4</th>\n",
       "      <th>5</th>\n",
       "      <th>6</th>\n",
       "      <th>7</th>\n",
       "      <th>8</th>\n",
       "      <th>9</th>\n",
       "      <th>...</th>\n",
       "      <th>324</th>\n",
       "      <th>325</th>\n",
       "      <th>326</th>\n",
       "      <th>327</th>\n",
       "      <th>328</th>\n",
       "      <th>329</th>\n",
       "      <th>330</th>\n",
       "      <th>331</th>\n",
       "      <th>332</th>\n",
       "      <th>333</th>\n",
       "    </tr>\n",
       "  </thead>\n",
       "  <tbody>\n",
       "    <tr>\n",
       "      <th>0</th>\n",
       "      <td>raja</td>\n",
       "      <td>0.556813</td>\n",
       "      <td>0.455705</td>\n",
       "      <td>0.165096</td>\n",
       "      <td>0.59896</td>\n",
       "      <td>0.266508</td>\n",
       "      <td>0.986004</td>\n",
       "      <td>0.680323</td>\n",
       "      <td>0.571986</td>\n",
       "      <td>0.408698</td>\n",
       "      <td>...</td>\n",
       "      <td>0.471636</td>\n",
       "      <td>0.134936</td>\n",
       "      <td>0.714804</td>\n",
       "      <td>0.69167</td>\n",
       "      <td>0.662319</td>\n",
       "      <td>0.835892</td>\n",
       "      <td>0.743749</td>\n",
       "      <td>0.127311</td>\n",
       "      <td>0.624908</td>\n",
       "      <td>0.318989</td>\n",
       "    </tr>\n",
       "    <tr>\n",
       "      <th>1</th>\n",
       "      <td>0.451231</td>\n",
       "      <td>0.030761</td>\n",
       "      <td>0.677092</td>\n",
       "      <td>0.874907</td>\n",
       "      <td>0.300733</td>\n",
       "      <td>0.652473</td>\n",
       "      <td>0.47471</td>\n",
       "      <td>0.165583</td>\n",
       "      <td>0.406086</td>\n",
       "      <td>0.90323</td>\n",
       "      <td>...</td>\n",
       "      <td>0.199945</td>\n",
       "      <td>0.429493</td>\n",
       "      <td>0.7119</td>\n",
       "      <td>0.42696</td>\n",
       "      <td>0.725243</td>\n",
       "      <td>0.447677</td>\n",
       "      <td>0.907729</td>\n",
       "      <td>0.0174</td>\n",
       "      <td>0.000622</td>\n",
       "      <td>0.583389</td>\n",
       "    </tr>\n",
       "    <tr>\n",
       "      <th>2</th>\n",
       "      <td>0.39112</td>\n",
       "      <td>0.314216</td>\n",
       "      <td>0.827952</td>\n",
       "      <td>0.583527</td>\n",
       "      <td>0.499311</td>\n",
       "      <td>0.91267</td>\n",
       "      <td>0.122566</td>\n",
       "      <td>0.488817</td>\n",
       "      <td>0.812661</td>\n",
       "      <td>0.335716</td>\n",
       "      <td>...</td>\n",
       "      <td>0.786393</td>\n",
       "      <td>0.7399</td>\n",
       "      <td>0.223966</td>\n",
       "      <td>0.802541</td>\n",
       "      <td>0.670484</td>\n",
       "      <td>0.099733</td>\n",
       "      <td>0.998722</td>\n",
       "      <td>0.546463</td>\n",
       "      <td>0.008991</td>\n",
       "      <td>0.820445</td>\n",
       "    </tr>\n",
       "    <tr>\n",
       "      <th>3</th>\n",
       "      <td>0.075522</td>\n",
       "      <td>0.265978</td>\n",
       "      <td>0.149986</td>\n",
       "      <td>0.874514</td>\n",
       "      <td>0.867183</td>\n",
       "      <td>0.788568</td>\n",
       "      <td>0.527463</td>\n",
       "      <td>0.052102</td>\n",
       "      <td>0.999047</td>\n",
       "      <td>0.62739</td>\n",
       "      <td>...</td>\n",
       "      <td>0.52451</td>\n",
       "      <td>0.596198</td>\n",
       "      <td>0.239293</td>\n",
       "      <td>0.905428</td>\n",
       "      <td>0.830192</td>\n",
       "      <td>0.486905</td>\n",
       "      <td>0.039744</td>\n",
       "      <td>0.554705</td>\n",
       "      <td>0.020568</td>\n",
       "      <td>0.952252</td>\n",
       "    </tr>\n",
       "    <tr>\n",
       "      <th>4</th>\n",
       "      <td>0.31842</td>\n",
       "      <td>0.439652</td>\n",
       "      <td>0.77109</td>\n",
       "      <td>0.490397</td>\n",
       "      <td>0.889457</td>\n",
       "      <td>0.613966</td>\n",
       "      <td>0.610269</td>\n",
       "      <td>0.724182</td>\n",
       "      <td>0.436908</td>\n",
       "      <td>0.803033</td>\n",
       "      <td>...</td>\n",
       "      <td>0.782666</td>\n",
       "      <td>0.386273</td>\n",
       "      <td>0.877428</td>\n",
       "      <td>0.582861</td>\n",
       "      <td>0.24735</td>\n",
       "      <td>0.347216</td>\n",
       "      <td>0.223168</td>\n",
       "      <td>0.280179</td>\n",
       "      <td>0.790809</td>\n",
       "      <td>0.998835</td>\n",
       "    </tr>\n",
       "  </tbody>\n",
       "</table>\n",
       "<p>5 rows × 334 columns</p>\n",
       "</div>"
      ],
      "text/plain": [
       "        0         1         2         3         4         5         6    \\\n",
       "0      raja  0.556813  0.455705  0.165096   0.59896  0.266508  0.986004   \n",
       "1  0.451231  0.030761  0.677092  0.874907  0.300733  0.652473   0.47471   \n",
       "2   0.39112  0.314216  0.827952  0.583527  0.499311   0.91267  0.122566   \n",
       "3  0.075522  0.265978  0.149986  0.874514  0.867183  0.788568  0.527463   \n",
       "4   0.31842  0.439652   0.77109  0.490397  0.889457  0.613966  0.610269   \n",
       "\n",
       "        7         8         9    ...       324       325       326       327  \\\n",
       "0  0.680323  0.571986  0.408698  ...  0.471636  0.134936  0.714804   0.69167   \n",
       "1  0.165583  0.406086   0.90323  ...  0.199945  0.429493    0.7119   0.42696   \n",
       "2  0.488817  0.812661  0.335716  ...  0.786393    0.7399  0.223966  0.802541   \n",
       "3  0.052102  0.999047   0.62739  ...   0.52451  0.596198  0.239293  0.905428   \n",
       "4  0.724182  0.436908  0.803033  ...  0.782666  0.386273  0.877428  0.582861   \n",
       "\n",
       "        328       329       330       331       332       333  \n",
       "0  0.662319  0.835892  0.743749  0.127311  0.624908  0.318989  \n",
       "1  0.725243  0.447677  0.907729    0.0174  0.000622  0.583389  \n",
       "2  0.670484  0.099733  0.998722  0.546463  0.008991  0.820445  \n",
       "3  0.830192  0.486905  0.039744  0.554705  0.020568  0.952252  \n",
       "4   0.24735  0.347216  0.223168  0.280179  0.790809  0.998835  \n",
       "\n",
       "[5 rows x 334 columns]"
      ]
     },
     "execution_count": 35,
     "metadata": {},
     "output_type": "execute_result"
    }
   ],
   "source": [
    "# Transpose the Dataframe\n",
    "newdf.T"
   ]
  },
  {
   "cell_type": "code",
   "execution_count": 36,
   "id": "fa453e65",
   "metadata": {},
   "outputs": [
    {
     "data": {
      "text/plain": [
       "pandas.core.frame.DataFrame"
      ]
     },
     "execution_count": 36,
     "metadata": {},
     "output_type": "execute_result"
    }
   ],
   "source": [
    "type(newdf.T)"
   ]
  },
  {
   "cell_type": "code",
   "execution_count": 37,
   "id": "8a647148",
   "metadata": {},
   "outputs": [
    {
     "data": {
      "text/plain": [
       "<bound method DataFrame.info of             0         1         2         3         4\n",
       "0        raja  0.451231  0.391120  0.075522  0.318420\n",
       "1    0.556813  0.030761  0.314216  0.265978  0.439652\n",
       "2    0.455705  0.677092  0.827952  0.149986  0.771090\n",
       "3    0.165096  0.874907  0.583527  0.874514  0.490397\n",
       "4     0.59896  0.300733  0.499311  0.867183  0.889457\n",
       "..        ...       ...       ...       ...       ...\n",
       "329  0.835892  0.447677  0.099733  0.486905  0.347216\n",
       "330  0.743749  0.907729  0.998722  0.039744  0.223168\n",
       "331  0.127311  0.017400  0.546463  0.554705  0.280179\n",
       "332  0.624908  0.000622  0.008991  0.020568  0.790809\n",
       "333  0.318989  0.583389  0.820445  0.952252  0.998835\n",
       "\n",
       "[334 rows x 5 columns]>"
      ]
     },
     "execution_count": 37,
     "metadata": {},
     "output_type": "execute_result"
    }
   ],
   "source": [
    "newdf.info"
   ]
  },
  {
   "cell_type": "markdown",
   "id": "61df63ae",
   "metadata": {},
   "source": [
    "# sorting"
   ]
  },
  {
   "cell_type": "code",
   "execution_count": 38,
   "id": "5d975532",
   "metadata": {},
   "outputs": [
    {
     "data": {
      "text/html": [
       "<div>\n",
       "<style scoped>\n",
       "    .dataframe tbody tr th:only-of-type {\n",
       "        vertical-align: middle;\n",
       "    }\n",
       "\n",
       "    .dataframe tbody tr th {\n",
       "        vertical-align: top;\n",
       "    }\n",
       "\n",
       "    .dataframe thead th {\n",
       "        text-align: right;\n",
       "    }\n",
       "</style>\n",
       "<table border=\"1\" class=\"dataframe\">\n",
       "  <thead>\n",
       "    <tr style=\"text-align: right;\">\n",
       "      <th></th>\n",
       "      <th>0</th>\n",
       "      <th>1</th>\n",
       "      <th>2</th>\n",
       "      <th>3</th>\n",
       "      <th>4</th>\n",
       "    </tr>\n",
       "  </thead>\n",
       "  <tbody>\n",
       "    <tr>\n",
       "      <th>0</th>\n",
       "      <td>raja</td>\n",
       "      <td>0.451231</td>\n",
       "      <td>0.391120</td>\n",
       "      <td>0.075522</td>\n",
       "      <td>0.318420</td>\n",
       "    </tr>\n",
       "    <tr>\n",
       "      <th>1</th>\n",
       "      <td>0.556813</td>\n",
       "      <td>0.030761</td>\n",
       "      <td>0.314216</td>\n",
       "      <td>0.265978</td>\n",
       "      <td>0.439652</td>\n",
       "    </tr>\n",
       "    <tr>\n",
       "      <th>2</th>\n",
       "      <td>0.455705</td>\n",
       "      <td>0.677092</td>\n",
       "      <td>0.827952</td>\n",
       "      <td>0.149986</td>\n",
       "      <td>0.771090</td>\n",
       "    </tr>\n",
       "    <tr>\n",
       "      <th>3</th>\n",
       "      <td>0.165096</td>\n",
       "      <td>0.874907</td>\n",
       "      <td>0.583527</td>\n",
       "      <td>0.874514</td>\n",
       "      <td>0.490397</td>\n",
       "    </tr>\n",
       "    <tr>\n",
       "      <th>4</th>\n",
       "      <td>0.59896</td>\n",
       "      <td>0.300733</td>\n",
       "      <td>0.499311</td>\n",
       "      <td>0.867183</td>\n",
       "      <td>0.889457</td>\n",
       "    </tr>\n",
       "  </tbody>\n",
       "</table>\n",
       "</div>"
      ],
      "text/plain": [
       "          0         1         2         3         4\n",
       "0      raja  0.451231  0.391120  0.075522  0.318420\n",
       "1  0.556813  0.030761  0.314216  0.265978  0.439652\n",
       "2  0.455705  0.677092  0.827952  0.149986  0.771090\n",
       "3  0.165096  0.874907  0.583527  0.874514  0.490397\n",
       "4   0.59896  0.300733  0.499311  0.867183  0.889457"
      ]
     },
     "execution_count": 38,
     "metadata": {},
     "output_type": "execute_result"
    }
   ],
   "source": [
    "# sorting index\n",
    "newdf.head()\n"
   ]
  },
  {
   "cell_type": "code",
   "execution_count": 39,
   "id": "c1ac0071",
   "metadata": {},
   "outputs": [
    {
     "data": {
      "text/html": [
       "<div>\n",
       "<style scoped>\n",
       "    .dataframe tbody tr th:only-of-type {\n",
       "        vertical-align: middle;\n",
       "    }\n",
       "\n",
       "    .dataframe tbody tr th {\n",
       "        vertical-align: top;\n",
       "    }\n",
       "\n",
       "    .dataframe thead th {\n",
       "        text-align: right;\n",
       "    }\n",
       "</style>\n",
       "<table border=\"1\" class=\"dataframe\">\n",
       "  <thead>\n",
       "    <tr style=\"text-align: right;\">\n",
       "      <th></th>\n",
       "      <th>0</th>\n",
       "      <th>1</th>\n",
       "      <th>2</th>\n",
       "      <th>3</th>\n",
       "      <th>4</th>\n",
       "    </tr>\n",
       "  </thead>\n",
       "  <tbody>\n",
       "    <tr>\n",
       "      <th>333</th>\n",
       "      <td>0.318989</td>\n",
       "      <td>0.583389</td>\n",
       "      <td>0.820445</td>\n",
       "      <td>0.952252</td>\n",
       "      <td>0.998835</td>\n",
       "    </tr>\n",
       "    <tr>\n",
       "      <th>332</th>\n",
       "      <td>0.624908</td>\n",
       "      <td>0.000622</td>\n",
       "      <td>0.008991</td>\n",
       "      <td>0.020568</td>\n",
       "      <td>0.790809</td>\n",
       "    </tr>\n",
       "    <tr>\n",
       "      <th>331</th>\n",
       "      <td>0.127311</td>\n",
       "      <td>0.017400</td>\n",
       "      <td>0.546463</td>\n",
       "      <td>0.554705</td>\n",
       "      <td>0.280179</td>\n",
       "    </tr>\n",
       "    <tr>\n",
       "      <th>330</th>\n",
       "      <td>0.743749</td>\n",
       "      <td>0.907729</td>\n",
       "      <td>0.998722</td>\n",
       "      <td>0.039744</td>\n",
       "      <td>0.223168</td>\n",
       "    </tr>\n",
       "    <tr>\n",
       "      <th>329</th>\n",
       "      <td>0.835892</td>\n",
       "      <td>0.447677</td>\n",
       "      <td>0.099733</td>\n",
       "      <td>0.486905</td>\n",
       "      <td>0.347216</td>\n",
       "    </tr>\n",
       "    <tr>\n",
       "      <th>...</th>\n",
       "      <td>...</td>\n",
       "      <td>...</td>\n",
       "      <td>...</td>\n",
       "      <td>...</td>\n",
       "      <td>...</td>\n",
       "    </tr>\n",
       "    <tr>\n",
       "      <th>4</th>\n",
       "      <td>0.59896</td>\n",
       "      <td>0.300733</td>\n",
       "      <td>0.499311</td>\n",
       "      <td>0.867183</td>\n",
       "      <td>0.889457</td>\n",
       "    </tr>\n",
       "    <tr>\n",
       "      <th>3</th>\n",
       "      <td>0.165096</td>\n",
       "      <td>0.874907</td>\n",
       "      <td>0.583527</td>\n",
       "      <td>0.874514</td>\n",
       "      <td>0.490397</td>\n",
       "    </tr>\n",
       "    <tr>\n",
       "      <th>2</th>\n",
       "      <td>0.455705</td>\n",
       "      <td>0.677092</td>\n",
       "      <td>0.827952</td>\n",
       "      <td>0.149986</td>\n",
       "      <td>0.771090</td>\n",
       "    </tr>\n",
       "    <tr>\n",
       "      <th>1</th>\n",
       "      <td>0.556813</td>\n",
       "      <td>0.030761</td>\n",
       "      <td>0.314216</td>\n",
       "      <td>0.265978</td>\n",
       "      <td>0.439652</td>\n",
       "    </tr>\n",
       "    <tr>\n",
       "      <th>0</th>\n",
       "      <td>raja</td>\n",
       "      <td>0.451231</td>\n",
       "      <td>0.391120</td>\n",
       "      <td>0.075522</td>\n",
       "      <td>0.318420</td>\n",
       "    </tr>\n",
       "  </tbody>\n",
       "</table>\n",
       "<p>334 rows × 5 columns</p>\n",
       "</div>"
      ],
      "text/plain": [
       "            0         1         2         3         4\n",
       "333  0.318989  0.583389  0.820445  0.952252  0.998835\n",
       "332  0.624908  0.000622  0.008991  0.020568  0.790809\n",
       "331  0.127311  0.017400  0.546463  0.554705  0.280179\n",
       "330  0.743749  0.907729  0.998722  0.039744  0.223168\n",
       "329  0.835892  0.447677  0.099733  0.486905  0.347216\n",
       "..        ...       ...       ...       ...       ...\n",
       "4     0.59896  0.300733  0.499311  0.867183  0.889457\n",
       "3    0.165096  0.874907  0.583527  0.874514  0.490397\n",
       "2    0.455705  0.677092  0.827952  0.149986  0.771090\n",
       "1    0.556813  0.030761  0.314216  0.265978  0.439652\n",
       "0        raja  0.451231  0.391120  0.075522  0.318420\n",
       "\n",
       "[334 rows x 5 columns]"
      ]
     },
     "execution_count": 39,
     "metadata": {},
     "output_type": "execute_result"
    }
   ],
   "source": [
    "#row sorting\n",
    "newdf.sort_index(axis=0,ascending=False)\n",
    "#bydefault ascending is True"
   ]
  },
  {
   "cell_type": "code",
   "execution_count": 40,
   "id": "7eb1b2e4",
   "metadata": {},
   "outputs": [
    {
     "data": {
      "text/html": [
       "<div>\n",
       "<style scoped>\n",
       "    .dataframe tbody tr th:only-of-type {\n",
       "        vertical-align: middle;\n",
       "    }\n",
       "\n",
       "    .dataframe tbody tr th {\n",
       "        vertical-align: top;\n",
       "    }\n",
       "\n",
       "    .dataframe thead th {\n",
       "        text-align: right;\n",
       "    }\n",
       "</style>\n",
       "<table border=\"1\" class=\"dataframe\">\n",
       "  <thead>\n",
       "    <tr style=\"text-align: right;\">\n",
       "      <th></th>\n",
       "      <th>4</th>\n",
       "      <th>3</th>\n",
       "      <th>2</th>\n",
       "      <th>1</th>\n",
       "      <th>0</th>\n",
       "    </tr>\n",
       "  </thead>\n",
       "  <tbody>\n",
       "    <tr>\n",
       "      <th>0</th>\n",
       "      <td>0.318420</td>\n",
       "      <td>0.075522</td>\n",
       "      <td>0.391120</td>\n",
       "      <td>0.451231</td>\n",
       "      <td>raja</td>\n",
       "    </tr>\n",
       "    <tr>\n",
       "      <th>1</th>\n",
       "      <td>0.439652</td>\n",
       "      <td>0.265978</td>\n",
       "      <td>0.314216</td>\n",
       "      <td>0.030761</td>\n",
       "      <td>0.556813</td>\n",
       "    </tr>\n",
       "    <tr>\n",
       "      <th>2</th>\n",
       "      <td>0.771090</td>\n",
       "      <td>0.149986</td>\n",
       "      <td>0.827952</td>\n",
       "      <td>0.677092</td>\n",
       "      <td>0.455705</td>\n",
       "    </tr>\n",
       "    <tr>\n",
       "      <th>3</th>\n",
       "      <td>0.490397</td>\n",
       "      <td>0.874514</td>\n",
       "      <td>0.583527</td>\n",
       "      <td>0.874907</td>\n",
       "      <td>0.165096</td>\n",
       "    </tr>\n",
       "    <tr>\n",
       "      <th>4</th>\n",
       "      <td>0.889457</td>\n",
       "      <td>0.867183</td>\n",
       "      <td>0.499311</td>\n",
       "      <td>0.300733</td>\n",
       "      <td>0.59896</td>\n",
       "    </tr>\n",
       "    <tr>\n",
       "      <th>...</th>\n",
       "      <td>...</td>\n",
       "      <td>...</td>\n",
       "      <td>...</td>\n",
       "      <td>...</td>\n",
       "      <td>...</td>\n",
       "    </tr>\n",
       "    <tr>\n",
       "      <th>329</th>\n",
       "      <td>0.347216</td>\n",
       "      <td>0.486905</td>\n",
       "      <td>0.099733</td>\n",
       "      <td>0.447677</td>\n",
       "      <td>0.835892</td>\n",
       "    </tr>\n",
       "    <tr>\n",
       "      <th>330</th>\n",
       "      <td>0.223168</td>\n",
       "      <td>0.039744</td>\n",
       "      <td>0.998722</td>\n",
       "      <td>0.907729</td>\n",
       "      <td>0.743749</td>\n",
       "    </tr>\n",
       "    <tr>\n",
       "      <th>331</th>\n",
       "      <td>0.280179</td>\n",
       "      <td>0.554705</td>\n",
       "      <td>0.546463</td>\n",
       "      <td>0.017400</td>\n",
       "      <td>0.127311</td>\n",
       "    </tr>\n",
       "    <tr>\n",
       "      <th>332</th>\n",
       "      <td>0.790809</td>\n",
       "      <td>0.020568</td>\n",
       "      <td>0.008991</td>\n",
       "      <td>0.000622</td>\n",
       "      <td>0.624908</td>\n",
       "    </tr>\n",
       "    <tr>\n",
       "      <th>333</th>\n",
       "      <td>0.998835</td>\n",
       "      <td>0.952252</td>\n",
       "      <td>0.820445</td>\n",
       "      <td>0.583389</td>\n",
       "      <td>0.318989</td>\n",
       "    </tr>\n",
       "  </tbody>\n",
       "</table>\n",
       "<p>334 rows × 5 columns</p>\n",
       "</div>"
      ],
      "text/plain": [
       "            4         3         2         1         0\n",
       "0    0.318420  0.075522  0.391120  0.451231      raja\n",
       "1    0.439652  0.265978  0.314216  0.030761  0.556813\n",
       "2    0.771090  0.149986  0.827952  0.677092  0.455705\n",
       "3    0.490397  0.874514  0.583527  0.874907  0.165096\n",
       "4    0.889457  0.867183  0.499311  0.300733   0.59896\n",
       "..        ...       ...       ...       ...       ...\n",
       "329  0.347216  0.486905  0.099733  0.447677  0.835892\n",
       "330  0.223168  0.039744  0.998722  0.907729  0.743749\n",
       "331  0.280179  0.554705  0.546463  0.017400  0.127311\n",
       "332  0.790809  0.020568  0.008991  0.000622  0.624908\n",
       "333  0.998835  0.952252  0.820445  0.583389  0.318989\n",
       "\n",
       "[334 rows x 5 columns]"
      ]
     },
     "execution_count": 40,
     "metadata": {},
     "output_type": "execute_result"
    }
   ],
   "source": [
    "#column sorting\n",
    "newdf.sort_index(axis=1,ascending = False)"
   ]
  },
  {
   "cell_type": "code",
   "execution_count": 41,
   "id": "7fc2a445",
   "metadata": {},
   "outputs": [
    {
     "data": {
      "text/plain": [
       "pandas.core.series.Series"
      ]
     },
     "execution_count": 41,
     "metadata": {},
     "output_type": "execute_result"
    }
   ],
   "source": [
    "type(newdf[0])\n",
    "# in the combination of series Dataframe create"
   ]
  },
  {
   "cell_type": "markdown",
   "id": "105b8c8b",
   "metadata": {},
   "source": [
    "# copy vs view"
   ]
  },
  {
   "cell_type": "code",
   "execution_count": 42,
   "id": "41d8910f",
   "metadata": {},
   "outputs": [],
   "source": [
    "# view\n",
    "newdf2 = newdf\n",
    "# newdf2 is a view(reference) of newdf\n",
    "# if we change anything on newdf2 then newdf will be change."
   ]
  },
  {
   "cell_type": "code",
   "execution_count": 43,
   "id": "322767f5",
   "metadata": {},
   "outputs": [
    {
     "data": {
      "text/html": [
       "<div>\n",
       "<style scoped>\n",
       "    .dataframe tbody tr th:only-of-type {\n",
       "        vertical-align: middle;\n",
       "    }\n",
       "\n",
       "    .dataframe tbody tr th {\n",
       "        vertical-align: top;\n",
       "    }\n",
       "\n",
       "    .dataframe thead th {\n",
       "        text-align: right;\n",
       "    }\n",
       "</style>\n",
       "<table border=\"1\" class=\"dataframe\">\n",
       "  <thead>\n",
       "    <tr style=\"text-align: right;\">\n",
       "      <th></th>\n",
       "      <th>0</th>\n",
       "      <th>1</th>\n",
       "      <th>2</th>\n",
       "      <th>3</th>\n",
       "      <th>4</th>\n",
       "    </tr>\n",
       "  </thead>\n",
       "  <tbody>\n",
       "    <tr>\n",
       "      <th>0</th>\n",
       "      <td>raja</td>\n",
       "      <td>0.451231</td>\n",
       "      <td>0.391120</td>\n",
       "      <td>0.075522</td>\n",
       "      <td>0.318420</td>\n",
       "    </tr>\n",
       "    <tr>\n",
       "      <th>1</th>\n",
       "      <td>0.556813</td>\n",
       "      <td>0.030761</td>\n",
       "      <td>0.314216</td>\n",
       "      <td>0.265978</td>\n",
       "      <td>0.439652</td>\n",
       "    </tr>\n",
       "    <tr>\n",
       "      <th>2</th>\n",
       "      <td>0.455705</td>\n",
       "      <td>0.677092</td>\n",
       "      <td>0.827952</td>\n",
       "      <td>0.149986</td>\n",
       "      <td>0.771090</td>\n",
       "    </tr>\n",
       "    <tr>\n",
       "      <th>3</th>\n",
       "      <td>0.165096</td>\n",
       "      <td>0.874907</td>\n",
       "      <td>0.583527</td>\n",
       "      <td>0.874514</td>\n",
       "      <td>0.490397</td>\n",
       "    </tr>\n",
       "    <tr>\n",
       "      <th>4</th>\n",
       "      <td>0.59896</td>\n",
       "      <td>0.300733</td>\n",
       "      <td>0.499311</td>\n",
       "      <td>0.867183</td>\n",
       "      <td>0.889457</td>\n",
       "    </tr>\n",
       "  </tbody>\n",
       "</table>\n",
       "</div>"
      ],
      "text/plain": [
       "          0         1         2         3         4\n",
       "0      raja  0.451231  0.391120  0.075522  0.318420\n",
       "1  0.556813  0.030761  0.314216  0.265978  0.439652\n",
       "2  0.455705  0.677092  0.827952  0.149986  0.771090\n",
       "3  0.165096  0.874907  0.583527  0.874514  0.490397\n",
       "4   0.59896  0.300733  0.499311  0.867183  0.889457"
      ]
     },
     "execution_count": 43,
     "metadata": {},
     "output_type": "execute_result"
    }
   ],
   "source": [
    "newdf.head()"
   ]
  },
  {
   "cell_type": "code",
   "execution_count": 44,
   "id": "300aea39",
   "metadata": {},
   "outputs": [
    {
     "name": "stderr",
     "output_type": "stream",
     "text": [
      "<ipython-input-44-b060a01d9065>:1: SettingWithCopyWarning: \n",
      "A value is trying to be set on a copy of a slice from a DataFrame\n",
      "\n",
      "See the caveats in the documentation: https://pandas.pydata.org/pandas-docs/stable/user_guide/indexing.html#returning-a-view-versus-a-copy\n",
      "  newdf2[0][0] = 'suman'\n"
     ]
    }
   ],
   "source": [
    "newdf2[0][0] = 'suman'"
   ]
  },
  {
   "cell_type": "code",
   "execution_count": 45,
   "id": "2ea93398",
   "metadata": {},
   "outputs": [
    {
     "data": {
      "text/html": [
       "<div>\n",
       "<style scoped>\n",
       "    .dataframe tbody tr th:only-of-type {\n",
       "        vertical-align: middle;\n",
       "    }\n",
       "\n",
       "    .dataframe tbody tr th {\n",
       "        vertical-align: top;\n",
       "    }\n",
       "\n",
       "    .dataframe thead th {\n",
       "        text-align: right;\n",
       "    }\n",
       "</style>\n",
       "<table border=\"1\" class=\"dataframe\">\n",
       "  <thead>\n",
       "    <tr style=\"text-align: right;\">\n",
       "      <th></th>\n",
       "      <th>0</th>\n",
       "      <th>1</th>\n",
       "      <th>2</th>\n",
       "      <th>3</th>\n",
       "      <th>4</th>\n",
       "    </tr>\n",
       "  </thead>\n",
       "  <tbody>\n",
       "    <tr>\n",
       "      <th>0</th>\n",
       "      <td>suman</td>\n",
       "      <td>0.451231</td>\n",
       "      <td>0.391120</td>\n",
       "      <td>0.075522</td>\n",
       "      <td>0.318420</td>\n",
       "    </tr>\n",
       "    <tr>\n",
       "      <th>1</th>\n",
       "      <td>0.556813</td>\n",
       "      <td>0.030761</td>\n",
       "      <td>0.314216</td>\n",
       "      <td>0.265978</td>\n",
       "      <td>0.439652</td>\n",
       "    </tr>\n",
       "    <tr>\n",
       "      <th>2</th>\n",
       "      <td>0.455705</td>\n",
       "      <td>0.677092</td>\n",
       "      <td>0.827952</td>\n",
       "      <td>0.149986</td>\n",
       "      <td>0.771090</td>\n",
       "    </tr>\n",
       "    <tr>\n",
       "      <th>3</th>\n",
       "      <td>0.165096</td>\n",
       "      <td>0.874907</td>\n",
       "      <td>0.583527</td>\n",
       "      <td>0.874514</td>\n",
       "      <td>0.490397</td>\n",
       "    </tr>\n",
       "    <tr>\n",
       "      <th>4</th>\n",
       "      <td>0.59896</td>\n",
       "      <td>0.300733</td>\n",
       "      <td>0.499311</td>\n",
       "      <td>0.867183</td>\n",
       "      <td>0.889457</td>\n",
       "    </tr>\n",
       "  </tbody>\n",
       "</table>\n",
       "</div>"
      ],
      "text/plain": [
       "          0         1         2         3         4\n",
       "0     suman  0.451231  0.391120  0.075522  0.318420\n",
       "1  0.556813  0.030761  0.314216  0.265978  0.439652\n",
       "2  0.455705  0.677092  0.827952  0.149986  0.771090\n",
       "3  0.165096  0.874907  0.583527  0.874514  0.490397\n",
       "4   0.59896  0.300733  0.499311  0.867183  0.889457"
      ]
     },
     "execution_count": 45,
     "metadata": {},
     "output_type": "execute_result"
    }
   ],
   "source": [
    "newdf.head()\n",
    "# raja change to suman"
   ]
  },
  {
   "cell_type": "code",
   "execution_count": 46,
   "id": "bb8d2b06",
   "metadata": {},
   "outputs": [],
   "source": [
    "# copy\n",
    "newdf3 = newdf.copy()\n",
    "# it will create a copy of newdf on another location.\n",
    "# if we change newdf3 then newdf will not be change."
   ]
  },
  {
   "cell_type": "code",
   "execution_count": 47,
   "id": "fba426e0",
   "metadata": {},
   "outputs": [
    {
     "name": "stderr",
     "output_type": "stream",
     "text": [
      "<ipython-input-47-22b9ca32e19e>:1: SettingWithCopyWarning: \n",
      "A value is trying to be set on a copy of a slice from a DataFrame\n",
      "\n",
      "See the caveats in the documentation: https://pandas.pydata.org/pandas-docs/stable/user_guide/indexing.html#returning-a-view-versus-a-copy\n",
      "  newdf3[0][0] = 'Suman'\n"
     ]
    }
   ],
   "source": [
    "newdf3[0][0] = 'Suman'\n",
    "# this warning is not  error\n",
    "# bcz pandas decide how to show the data as viw or copy \n",
    "# so for avoiding this warning we use loc attribute"
   ]
  },
  {
   "cell_type": "code",
   "execution_count": 48,
   "id": "c57dc87c",
   "metadata": {},
   "outputs": [
    {
     "data": {
      "text/html": [
       "<div>\n",
       "<style scoped>\n",
       "    .dataframe tbody tr th:only-of-type {\n",
       "        vertical-align: middle;\n",
       "    }\n",
       "\n",
       "    .dataframe tbody tr th {\n",
       "        vertical-align: top;\n",
       "    }\n",
       "\n",
       "    .dataframe thead th {\n",
       "        text-align: right;\n",
       "    }\n",
       "</style>\n",
       "<table border=\"1\" class=\"dataframe\">\n",
       "  <thead>\n",
       "    <tr style=\"text-align: right;\">\n",
       "      <th></th>\n",
       "      <th>0</th>\n",
       "      <th>1</th>\n",
       "      <th>2</th>\n",
       "      <th>3</th>\n",
       "      <th>4</th>\n",
       "    </tr>\n",
       "  </thead>\n",
       "  <tbody>\n",
       "    <tr>\n",
       "      <th>0</th>\n",
       "      <td>Suman</td>\n",
       "      <td>0.451231</td>\n",
       "      <td>0.391120</td>\n",
       "      <td>0.075522</td>\n",
       "      <td>0.318420</td>\n",
       "    </tr>\n",
       "    <tr>\n",
       "      <th>1</th>\n",
       "      <td>0.556813</td>\n",
       "      <td>0.030761</td>\n",
       "      <td>0.314216</td>\n",
       "      <td>0.265978</td>\n",
       "      <td>0.439652</td>\n",
       "    </tr>\n",
       "    <tr>\n",
       "      <th>2</th>\n",
       "      <td>0.455705</td>\n",
       "      <td>0.677092</td>\n",
       "      <td>0.827952</td>\n",
       "      <td>0.149986</td>\n",
       "      <td>0.771090</td>\n",
       "    </tr>\n",
       "    <tr>\n",
       "      <th>3</th>\n",
       "      <td>0.165096</td>\n",
       "      <td>0.874907</td>\n",
       "      <td>0.583527</td>\n",
       "      <td>0.874514</td>\n",
       "      <td>0.490397</td>\n",
       "    </tr>\n",
       "    <tr>\n",
       "      <th>4</th>\n",
       "      <td>0.59896</td>\n",
       "      <td>0.300733</td>\n",
       "      <td>0.499311</td>\n",
       "      <td>0.867183</td>\n",
       "      <td>0.889457</td>\n",
       "    </tr>\n",
       "  </tbody>\n",
       "</table>\n",
       "</div>"
      ],
      "text/plain": [
       "          0         1         2         3         4\n",
       "0     Suman  0.451231  0.391120  0.075522  0.318420\n",
       "1  0.556813  0.030761  0.314216  0.265978  0.439652\n",
       "2  0.455705  0.677092  0.827952  0.149986  0.771090\n",
       "3  0.165096  0.874907  0.583527  0.874514  0.490397\n",
       "4   0.59896  0.300733  0.499311  0.867183  0.889457"
      ]
     },
     "execution_count": 48,
     "metadata": {},
     "output_type": "execute_result"
    }
   ],
   "source": [
    "newdf3.head()\n"
   ]
  },
  {
   "cell_type": "code",
   "execution_count": 49,
   "id": "2d9120a5",
   "metadata": {},
   "outputs": [
    {
     "data": {
      "text/html": [
       "<div>\n",
       "<style scoped>\n",
       "    .dataframe tbody tr th:only-of-type {\n",
       "        vertical-align: middle;\n",
       "    }\n",
       "\n",
       "    .dataframe tbody tr th {\n",
       "        vertical-align: top;\n",
       "    }\n",
       "\n",
       "    .dataframe thead th {\n",
       "        text-align: right;\n",
       "    }\n",
       "</style>\n",
       "<table border=\"1\" class=\"dataframe\">\n",
       "  <thead>\n",
       "    <tr style=\"text-align: right;\">\n",
       "      <th></th>\n",
       "      <th>0</th>\n",
       "      <th>1</th>\n",
       "      <th>2</th>\n",
       "      <th>3</th>\n",
       "      <th>4</th>\n",
       "    </tr>\n",
       "  </thead>\n",
       "  <tbody>\n",
       "    <tr>\n",
       "      <th>0</th>\n",
       "      <td>suman</td>\n",
       "      <td>0.451231</td>\n",
       "      <td>0.391120</td>\n",
       "      <td>0.075522</td>\n",
       "      <td>0.318420</td>\n",
       "    </tr>\n",
       "    <tr>\n",
       "      <th>1</th>\n",
       "      <td>0.556813</td>\n",
       "      <td>0.030761</td>\n",
       "      <td>0.314216</td>\n",
       "      <td>0.265978</td>\n",
       "      <td>0.439652</td>\n",
       "    </tr>\n",
       "    <tr>\n",
       "      <th>2</th>\n",
       "      <td>0.455705</td>\n",
       "      <td>0.677092</td>\n",
       "      <td>0.827952</td>\n",
       "      <td>0.149986</td>\n",
       "      <td>0.771090</td>\n",
       "    </tr>\n",
       "    <tr>\n",
       "      <th>3</th>\n",
       "      <td>0.165096</td>\n",
       "      <td>0.874907</td>\n",
       "      <td>0.583527</td>\n",
       "      <td>0.874514</td>\n",
       "      <td>0.490397</td>\n",
       "    </tr>\n",
       "    <tr>\n",
       "      <th>4</th>\n",
       "      <td>0.59896</td>\n",
       "      <td>0.300733</td>\n",
       "      <td>0.499311</td>\n",
       "      <td>0.867183</td>\n",
       "      <td>0.889457</td>\n",
       "    </tr>\n",
       "  </tbody>\n",
       "</table>\n",
       "</div>"
      ],
      "text/plain": [
       "          0         1         2         3         4\n",
       "0     suman  0.451231  0.391120  0.075522  0.318420\n",
       "1  0.556813  0.030761  0.314216  0.265978  0.439652\n",
       "2  0.455705  0.677092  0.827952  0.149986  0.771090\n",
       "3  0.165096  0.874907  0.583527  0.874514  0.490397\n",
       "4   0.59896  0.300733  0.499311  0.867183  0.889457"
      ]
     },
     "execution_count": 49,
     "metadata": {},
     "output_type": "execute_result"
    }
   ],
   "source": [
    "newdf.head()\n",
    "# newdf3[0][0] is Suman and newdf[0][0] is Raja so \n",
    "# both are present on different location"
   ]
  },
  {
   "cell_type": "code",
   "execution_count": 50,
   "id": "4d57a2c6",
   "metadata": {},
   "outputs": [],
   "source": [
    "# changing columns\n",
    "newdf.columns = list('ABCDE')"
   ]
  },
  {
   "cell_type": "code",
   "execution_count": 51,
   "id": "0cf7d0cf",
   "metadata": {},
   "outputs": [
    {
     "data": {
      "text/html": [
       "<div>\n",
       "<style scoped>\n",
       "    .dataframe tbody tr th:only-of-type {\n",
       "        vertical-align: middle;\n",
       "    }\n",
       "\n",
       "    .dataframe tbody tr th {\n",
       "        vertical-align: top;\n",
       "    }\n",
       "\n",
       "    .dataframe thead th {\n",
       "        text-align: right;\n",
       "    }\n",
       "</style>\n",
       "<table border=\"1\" class=\"dataframe\">\n",
       "  <thead>\n",
       "    <tr style=\"text-align: right;\">\n",
       "      <th></th>\n",
       "      <th>A</th>\n",
       "      <th>B</th>\n",
       "      <th>C</th>\n",
       "      <th>D</th>\n",
       "      <th>E</th>\n",
       "    </tr>\n",
       "  </thead>\n",
       "  <tbody>\n",
       "    <tr>\n",
       "      <th>0</th>\n",
       "      <td>suman</td>\n",
       "      <td>0.451231</td>\n",
       "      <td>0.391120</td>\n",
       "      <td>0.075522</td>\n",
       "      <td>0.318420</td>\n",
       "    </tr>\n",
       "    <tr>\n",
       "      <th>1</th>\n",
       "      <td>0.556813</td>\n",
       "      <td>0.030761</td>\n",
       "      <td>0.314216</td>\n",
       "      <td>0.265978</td>\n",
       "      <td>0.439652</td>\n",
       "    </tr>\n",
       "  </tbody>\n",
       "</table>\n",
       "</div>"
      ],
      "text/plain": [
       "          A         B         C         D         E\n",
       "0     suman  0.451231  0.391120  0.075522  0.318420\n",
       "1  0.556813  0.030761  0.314216  0.265978  0.439652"
      ]
     },
     "execution_count": 51,
     "metadata": {},
     "output_type": "execute_result"
    }
   ],
   "source": [
    "newdf.head(2)"
   ]
  },
  {
   "cell_type": "markdown",
   "id": "51a9033a",
   "metadata": {},
   "source": [
    "# LOC"
   ]
  },
  {
   "cell_type": "code",
   "execution_count": 52,
   "id": "0e015586",
   "metadata": {},
   "outputs": [
    {
     "data": {
      "text/plain": [
       "'suman'"
      ]
     },
     "execution_count": 52,
     "metadata": {},
     "output_type": "execute_result"
    }
   ],
   "source": [
    "newdf.loc[0,'A']"
   ]
  },
  {
   "cell_type": "code",
   "execution_count": 53,
   "id": "4d9692a7",
   "metadata": {},
   "outputs": [],
   "source": [
    "# if i create accidentaly create like this\n",
    "newdf.loc[0,0] = 'Raja'"
   ]
  },
  {
   "cell_type": "code",
   "execution_count": 54,
   "id": "746c8362",
   "metadata": {},
   "outputs": [
    {
     "data": {
      "text/html": [
       "<div>\n",
       "<style scoped>\n",
       "    .dataframe tbody tr th:only-of-type {\n",
       "        vertical-align: middle;\n",
       "    }\n",
       "\n",
       "    .dataframe tbody tr th {\n",
       "        vertical-align: top;\n",
       "    }\n",
       "\n",
       "    .dataframe thead th {\n",
       "        text-align: right;\n",
       "    }\n",
       "</style>\n",
       "<table border=\"1\" class=\"dataframe\">\n",
       "  <thead>\n",
       "    <tr style=\"text-align: right;\">\n",
       "      <th></th>\n",
       "      <th>A</th>\n",
       "      <th>B</th>\n",
       "      <th>C</th>\n",
       "      <th>D</th>\n",
       "      <th>E</th>\n",
       "      <th>0</th>\n",
       "    </tr>\n",
       "  </thead>\n",
       "  <tbody>\n",
       "    <tr>\n",
       "      <th>0</th>\n",
       "      <td>suman</td>\n",
       "      <td>0.451231</td>\n",
       "      <td>0.391120</td>\n",
       "      <td>0.075522</td>\n",
       "      <td>0.318420</td>\n",
       "      <td>Raja</td>\n",
       "    </tr>\n",
       "    <tr>\n",
       "      <th>1</th>\n",
       "      <td>0.556813</td>\n",
       "      <td>0.030761</td>\n",
       "      <td>0.314216</td>\n",
       "      <td>0.265978</td>\n",
       "      <td>0.439652</td>\n",
       "      <td>NaN</td>\n",
       "    </tr>\n",
       "    <tr>\n",
       "      <th>2</th>\n",
       "      <td>0.455705</td>\n",
       "      <td>0.677092</td>\n",
       "      <td>0.827952</td>\n",
       "      <td>0.149986</td>\n",
       "      <td>0.771090</td>\n",
       "      <td>NaN</td>\n",
       "    </tr>\n",
       "    <tr>\n",
       "      <th>3</th>\n",
       "      <td>0.165096</td>\n",
       "      <td>0.874907</td>\n",
       "      <td>0.583527</td>\n",
       "      <td>0.874514</td>\n",
       "      <td>0.490397</td>\n",
       "      <td>NaN</td>\n",
       "    </tr>\n",
       "    <tr>\n",
       "      <th>4</th>\n",
       "      <td>0.59896</td>\n",
       "      <td>0.300733</td>\n",
       "      <td>0.499311</td>\n",
       "      <td>0.867183</td>\n",
       "      <td>0.889457</td>\n",
       "      <td>NaN</td>\n",
       "    </tr>\n",
       "  </tbody>\n",
       "</table>\n",
       "</div>"
      ],
      "text/plain": [
       "          A         B         C         D         E     0\n",
       "0     suman  0.451231  0.391120  0.075522  0.318420  Raja\n",
       "1  0.556813  0.030761  0.314216  0.265978  0.439652   NaN\n",
       "2  0.455705  0.677092  0.827952  0.149986  0.771090   NaN\n",
       "3  0.165096  0.874907  0.583527  0.874514  0.490397   NaN\n",
       "4   0.59896  0.300733  0.499311  0.867183  0.889457   NaN"
      ]
     },
     "execution_count": 54,
     "metadata": {},
     "output_type": "execute_result"
    }
   ],
   "source": [
    "newdf.head()\n",
    "# one extra clolumn will be create if it's not available"
   ]
  },
  {
   "cell_type": "code",
   "execution_count": 55,
   "id": "d034d801",
   "metadata": {},
   "outputs": [],
   "source": [
    "# want to remove the unnecessary column like this\n",
    "newdf = newdf.drop(0,axis=1)"
   ]
  },
  {
   "cell_type": "markdown",
   "id": "fa4978ad",
   "metadata": {},
   "source": [
    "# changing data with loc"
   ]
  },
  {
   "cell_type": "code",
   "execution_count": 56,
   "id": "d4f4de54",
   "metadata": {},
   "outputs": [],
   "source": [
    "newdf.loc[0,'A'] = 654\n",
    "# 0 --> row\n",
    "# 'A' --> column"
   ]
  },
  {
   "cell_type": "code",
   "execution_count": 57,
   "id": "8791d373",
   "metadata": {},
   "outputs": [
    {
     "data": {
      "text/html": [
       "<div>\n",
       "<style scoped>\n",
       "    .dataframe tbody tr th:only-of-type {\n",
       "        vertical-align: middle;\n",
       "    }\n",
       "\n",
       "    .dataframe tbody tr th {\n",
       "        vertical-align: top;\n",
       "    }\n",
       "\n",
       "    .dataframe thead th {\n",
       "        text-align: right;\n",
       "    }\n",
       "</style>\n",
       "<table border=\"1\" class=\"dataframe\">\n",
       "  <thead>\n",
       "    <tr style=\"text-align: right;\">\n",
       "      <th></th>\n",
       "      <th>A</th>\n",
       "      <th>B</th>\n",
       "      <th>C</th>\n",
       "      <th>D</th>\n",
       "      <th>E</th>\n",
       "    </tr>\n",
       "  </thead>\n",
       "  <tbody>\n",
       "    <tr>\n",
       "      <th>0</th>\n",
       "      <td>654</td>\n",
       "      <td>0.451231</td>\n",
       "      <td>0.391120</td>\n",
       "      <td>0.075522</td>\n",
       "      <td>0.318420</td>\n",
       "    </tr>\n",
       "    <tr>\n",
       "      <th>1</th>\n",
       "      <td>0.556813</td>\n",
       "      <td>0.030761</td>\n",
       "      <td>0.314216</td>\n",
       "      <td>0.265978</td>\n",
       "      <td>0.439652</td>\n",
       "    </tr>\n",
       "    <tr>\n",
       "      <th>2</th>\n",
       "      <td>0.455705</td>\n",
       "      <td>0.677092</td>\n",
       "      <td>0.827952</td>\n",
       "      <td>0.149986</td>\n",
       "      <td>0.771090</td>\n",
       "    </tr>\n",
       "    <tr>\n",
       "      <th>3</th>\n",
       "      <td>0.165096</td>\n",
       "      <td>0.874907</td>\n",
       "      <td>0.583527</td>\n",
       "      <td>0.874514</td>\n",
       "      <td>0.490397</td>\n",
       "    </tr>\n",
       "    <tr>\n",
       "      <th>4</th>\n",
       "      <td>0.59896</td>\n",
       "      <td>0.300733</td>\n",
       "      <td>0.499311</td>\n",
       "      <td>0.867183</td>\n",
       "      <td>0.889457</td>\n",
       "    </tr>\n",
       "  </tbody>\n",
       "</table>\n",
       "</div>"
      ],
      "text/plain": [
       "          A         B         C         D         E\n",
       "0       654  0.451231  0.391120  0.075522  0.318420\n",
       "1  0.556813  0.030761  0.314216  0.265978  0.439652\n",
       "2  0.455705  0.677092  0.827952  0.149986  0.771090\n",
       "3  0.165096  0.874907  0.583527  0.874514  0.490397\n",
       "4   0.59896  0.300733  0.499311  0.867183  0.889457"
      ]
     },
     "execution_count": 57,
     "metadata": {},
     "output_type": "execute_result"
    }
   ],
   "source": [
    "newdf.head()"
   ]
  },
  {
   "cell_type": "markdown",
   "id": "fed784a2",
   "metadata": {},
   "source": [
    "# only specific data returns with loc"
   ]
  },
  {
   "cell_type": "code",
   "execution_count": 58,
   "id": "16771642",
   "metadata": {},
   "outputs": [
    {
     "data": {
      "text/html": [
       "<div>\n",
       "<style scoped>\n",
       "    .dataframe tbody tr th:only-of-type {\n",
       "        vertical-align: middle;\n",
       "    }\n",
       "\n",
       "    .dataframe tbody tr th {\n",
       "        vertical-align: top;\n",
       "    }\n",
       "\n",
       "    .dataframe thead th {\n",
       "        text-align: right;\n",
       "    }\n",
       "</style>\n",
       "<table border=\"1\" class=\"dataframe\">\n",
       "  <thead>\n",
       "    <tr style=\"text-align: right;\">\n",
       "      <th></th>\n",
       "      <th>C</th>\n",
       "      <th>D</th>\n",
       "    </tr>\n",
       "  </thead>\n",
       "  <tbody>\n",
       "    <tr>\n",
       "      <th>1</th>\n",
       "      <td>0.314216</td>\n",
       "      <td>0.265978</td>\n",
       "    </tr>\n",
       "    <tr>\n",
       "      <th>2</th>\n",
       "      <td>0.827952</td>\n",
       "      <td>0.149986</td>\n",
       "    </tr>\n",
       "  </tbody>\n",
       "</table>\n",
       "</div>"
      ],
      "text/plain": [
       "          C         D\n",
       "1  0.314216  0.265978\n",
       "2  0.827952  0.149986"
      ]
     },
     "execution_count": 58,
     "metadata": {},
     "output_type": "execute_result"
    }
   ],
   "source": [
    "newdf.loc[[1,2],['C','D']]\n",
    "# it is not changing the original dataframe\n",
    "# it's only giving me the copy of result"
   ]
  },
  {
   "cell_type": "code",
   "execution_count": 59,
   "id": "31aa2dff",
   "metadata": {},
   "outputs": [
    {
     "data": {
      "text/html": [
       "<div>\n",
       "<style scoped>\n",
       "    .dataframe tbody tr th:only-of-type {\n",
       "        vertical-align: middle;\n",
       "    }\n",
       "\n",
       "    .dataframe tbody tr th {\n",
       "        vertical-align: top;\n",
       "    }\n",
       "\n",
       "    .dataframe thead th {\n",
       "        text-align: right;\n",
       "    }\n",
       "</style>\n",
       "<table border=\"1\" class=\"dataframe\">\n",
       "  <thead>\n",
       "    <tr style=\"text-align: right;\">\n",
       "      <th></th>\n",
       "      <th>B</th>\n",
       "      <th>D</th>\n",
       "    </tr>\n",
       "  </thead>\n",
       "  <tbody>\n",
       "    <tr>\n",
       "      <th>0</th>\n",
       "      <td>0.451231</td>\n",
       "      <td>0.075522</td>\n",
       "    </tr>\n",
       "    <tr>\n",
       "      <th>1</th>\n",
       "      <td>0.030761</td>\n",
       "      <td>0.265978</td>\n",
       "    </tr>\n",
       "    <tr>\n",
       "      <th>2</th>\n",
       "      <td>0.677092</td>\n",
       "      <td>0.149986</td>\n",
       "    </tr>\n",
       "    <tr>\n",
       "      <th>3</th>\n",
       "      <td>0.874907</td>\n",
       "      <td>0.874514</td>\n",
       "    </tr>\n",
       "    <tr>\n",
       "      <th>4</th>\n",
       "      <td>0.300733</td>\n",
       "      <td>0.867183</td>\n",
       "    </tr>\n",
       "  </tbody>\n",
       "</table>\n",
       "</div>"
      ],
      "text/plain": [
       "          B         D\n",
       "0  0.451231  0.075522\n",
       "1  0.030761  0.265978\n",
       "2  0.677092  0.149986\n",
       "3  0.874907  0.874514\n",
       "4  0.300733  0.867183"
      ]
     },
     "execution_count": 59,
     "metadata": {},
     "output_type": "execute_result"
    }
   ],
   "source": [
    "newdf.head().loc[:,['B','D']]\n",
    "# it's give me all the rows with B and D columns."
   ]
  },
  {
   "cell_type": "code",
   "execution_count": 60,
   "id": "97fbebc2",
   "metadata": {},
   "outputs": [
    {
     "data": {
      "text/html": [
       "<div>\n",
       "<style scoped>\n",
       "    .dataframe tbody tr th:only-of-type {\n",
       "        vertical-align: middle;\n",
       "    }\n",
       "\n",
       "    .dataframe tbody tr th {\n",
       "        vertical-align: top;\n",
       "    }\n",
       "\n",
       "    .dataframe thead th {\n",
       "        text-align: right;\n",
       "    }\n",
       "</style>\n",
       "<table border=\"1\" class=\"dataframe\">\n",
       "  <thead>\n",
       "    <tr style=\"text-align: right;\">\n",
       "      <th></th>\n",
       "      <th>A</th>\n",
       "      <th>B</th>\n",
       "      <th>C</th>\n",
       "      <th>D</th>\n",
       "      <th>E</th>\n",
       "    </tr>\n",
       "  </thead>\n",
       "  <tbody>\n",
       "    <tr>\n",
       "      <th>1</th>\n",
       "      <td>0.556813</td>\n",
       "      <td>0.030761</td>\n",
       "      <td>0.314216</td>\n",
       "      <td>0.265978</td>\n",
       "      <td>0.439652</td>\n",
       "    </tr>\n",
       "    <tr>\n",
       "      <th>2</th>\n",
       "      <td>0.455705</td>\n",
       "      <td>0.677092</td>\n",
       "      <td>0.827952</td>\n",
       "      <td>0.149986</td>\n",
       "      <td>0.771090</td>\n",
       "    </tr>\n",
       "    <tr>\n",
       "      <th>3</th>\n",
       "      <td>0.165096</td>\n",
       "      <td>0.874907</td>\n",
       "      <td>0.583527</td>\n",
       "      <td>0.874514</td>\n",
       "      <td>0.490397</td>\n",
       "    </tr>\n",
       "    <tr>\n",
       "      <th>4</th>\n",
       "      <td>0.59896</td>\n",
       "      <td>0.300733</td>\n",
       "      <td>0.499311</td>\n",
       "      <td>0.867183</td>\n",
       "      <td>0.889457</td>\n",
       "    </tr>\n",
       "    <tr>\n",
       "      <th>5</th>\n",
       "      <td>0.266508</td>\n",
       "      <td>0.652473</td>\n",
       "      <td>0.912670</td>\n",
       "      <td>0.788568</td>\n",
       "      <td>0.613966</td>\n",
       "    </tr>\n",
       "  </tbody>\n",
       "</table>\n",
       "</div>"
      ],
      "text/plain": [
       "          A         B         C         D         E\n",
       "1  0.556813  0.030761  0.314216  0.265978  0.439652\n",
       "2  0.455705  0.677092  0.827952  0.149986  0.771090\n",
       "3  0.165096  0.874907  0.583527  0.874514  0.490397\n",
       "4   0.59896  0.300733  0.499311  0.867183  0.889457\n",
       "5  0.266508  0.652473  0.912670  0.788568  0.613966"
      ]
     },
     "execution_count": 60,
     "metadata": {},
     "output_type": "execute_result"
    }
   ],
   "source": [
    "newdf.loc[1:5,:]\n",
    "# it's give me the all columns value with row from 1 to 4"
   ]
  },
  {
   "cell_type": "markdown",
   "id": "c8f8982c",
   "metadata": {},
   "source": [
    "# running complex query inside Loc"
   ]
  },
  {
   "cell_type": "code",
   "execution_count": 61,
   "id": "9583b39e",
   "metadata": {},
   "outputs": [
    {
     "data": {
      "text/html": [
       "<div>\n",
       "<style scoped>\n",
       "    .dataframe tbody tr th:only-of-type {\n",
       "        vertical-align: middle;\n",
       "    }\n",
       "\n",
       "    .dataframe tbody tr th {\n",
       "        vertical-align: top;\n",
       "    }\n",
       "\n",
       "    .dataframe thead th {\n",
       "        text-align: right;\n",
       "    }\n",
       "</style>\n",
       "<table border=\"1\" class=\"dataframe\">\n",
       "  <thead>\n",
       "    <tr style=\"text-align: right;\">\n",
       "      <th></th>\n",
       "      <th>A</th>\n",
       "      <th>B</th>\n",
       "      <th>C</th>\n",
       "      <th>D</th>\n",
       "      <th>E</th>\n",
       "    </tr>\n",
       "  </thead>\n",
       "  <tbody>\n",
       "    <tr>\n",
       "      <th>5</th>\n",
       "      <td>0.266508</td>\n",
       "      <td>0.652473</td>\n",
       "      <td>0.912670</td>\n",
       "      <td>0.788568</td>\n",
       "      <td>0.613966</td>\n",
       "    </tr>\n",
       "    <tr>\n",
       "      <th>45</th>\n",
       "      <td>0.201961</td>\n",
       "      <td>0.274433</td>\n",
       "      <td>0.957179</td>\n",
       "      <td>0.881322</td>\n",
       "      <td>0.232967</td>\n",
       "    </tr>\n",
       "    <tr>\n",
       "      <th>83</th>\n",
       "      <td>0.138096</td>\n",
       "      <td>0.974898</td>\n",
       "      <td>0.913798</td>\n",
       "      <td>0.752349</td>\n",
       "      <td>0.780268</td>\n",
       "    </tr>\n",
       "    <tr>\n",
       "      <th>90</th>\n",
       "      <td>0.114744</td>\n",
       "      <td>0.531995</td>\n",
       "      <td>0.945337</td>\n",
       "      <td>0.614940</td>\n",
       "      <td>0.640034</td>\n",
       "    </tr>\n",
       "    <tr>\n",
       "      <th>127</th>\n",
       "      <td>0.128261</td>\n",
       "      <td>0.631223</td>\n",
       "      <td>0.945028</td>\n",
       "      <td>0.712114</td>\n",
       "      <td>0.993352</td>\n",
       "    </tr>\n",
       "    <tr>\n",
       "      <th>144</th>\n",
       "      <td>0.060451</td>\n",
       "      <td>0.783803</td>\n",
       "      <td>0.944397</td>\n",
       "      <td>0.632672</td>\n",
       "      <td>0.832245</td>\n",
       "    </tr>\n",
       "    <tr>\n",
       "      <th>171</th>\n",
       "      <td>0.122907</td>\n",
       "      <td>0.548406</td>\n",
       "      <td>0.999180</td>\n",
       "      <td>0.852878</td>\n",
       "      <td>0.983109</td>\n",
       "    </tr>\n",
       "    <tr>\n",
       "      <th>219</th>\n",
       "      <td>0.245918</td>\n",
       "      <td>0.554145</td>\n",
       "      <td>0.973894</td>\n",
       "      <td>0.469147</td>\n",
       "      <td>0.313081</td>\n",
       "    </tr>\n",
       "  </tbody>\n",
       "</table>\n",
       "</div>"
      ],
      "text/plain": [
       "            A         B         C         D         E\n",
       "5    0.266508  0.652473  0.912670  0.788568  0.613966\n",
       "45   0.201961  0.274433  0.957179  0.881322  0.232967\n",
       "83   0.138096  0.974898  0.913798  0.752349  0.780268\n",
       "90   0.114744  0.531995  0.945337  0.614940  0.640034\n",
       "127  0.128261  0.631223  0.945028  0.712114  0.993352\n",
       "144  0.060451  0.783803  0.944397  0.632672  0.832245\n",
       "171  0.122907  0.548406  0.999180  0.852878  0.983109\n",
       "219  0.245918  0.554145  0.973894  0.469147  0.313081"
      ]
     },
     "execution_count": 61,
     "metadata": {},
     "output_type": "execute_result"
    }
   ],
   "source": [
    "newdf.loc[(newdf['A']<0.3) & (newdf['C']>0.9)]"
   ]
  },
  {
   "cell_type": "markdown",
   "id": "d3ab1222",
   "metadata": {},
   "source": [
    "# -------------------------------------------"
   ]
  },
  {
   "cell_type": "markdown",
   "id": "9de975a8",
   "metadata": {},
   "source": [
    "# iloc \n",
    "### if we don't wnat to find element through column name or row name then we should use iloc"
   ]
  },
  {
   "cell_type": "code",
   "execution_count": 62,
   "id": "f3a8bedb",
   "metadata": {},
   "outputs": [
    {
     "data": {
      "text/html": [
       "<div>\n",
       "<style scoped>\n",
       "    .dataframe tbody tr th:only-of-type {\n",
       "        vertical-align: middle;\n",
       "    }\n",
       "\n",
       "    .dataframe tbody tr th {\n",
       "        vertical-align: top;\n",
       "    }\n",
       "\n",
       "    .dataframe thead th {\n",
       "        text-align: right;\n",
       "    }\n",
       "</style>\n",
       "<table border=\"1\" class=\"dataframe\">\n",
       "  <thead>\n",
       "    <tr style=\"text-align: right;\">\n",
       "      <th></th>\n",
       "      <th>A</th>\n",
       "      <th>B</th>\n",
       "      <th>C</th>\n",
       "      <th>D</th>\n",
       "      <th>E</th>\n",
       "    </tr>\n",
       "  </thead>\n",
       "  <tbody>\n",
       "    <tr>\n",
       "      <th>0</th>\n",
       "      <td>654</td>\n",
       "      <td>0.451231</td>\n",
       "      <td>0.391120</td>\n",
       "      <td>0.075522</td>\n",
       "      <td>0.318420</td>\n",
       "    </tr>\n",
       "    <tr>\n",
       "      <th>1</th>\n",
       "      <td>0.556813</td>\n",
       "      <td>0.030761</td>\n",
       "      <td>0.314216</td>\n",
       "      <td>0.265978</td>\n",
       "      <td>0.439652</td>\n",
       "    </tr>\n",
       "  </tbody>\n",
       "</table>\n",
       "</div>"
      ],
      "text/plain": [
       "          A         B         C         D         E\n",
       "0       654  0.451231  0.391120  0.075522  0.318420\n",
       "1  0.556813  0.030761  0.314216  0.265978  0.439652"
      ]
     },
     "execution_count": 62,
     "metadata": {},
     "output_type": "execute_result"
    }
   ],
   "source": [
    "newdf.head(2)"
   ]
  },
  {
   "cell_type": "code",
   "execution_count": 63,
   "id": "d383f1b2",
   "metadata": {},
   "outputs": [
    {
     "data": {
      "text/plain": [
       "0.3184202186123638"
      ]
     },
     "execution_count": 63,
     "metadata": {},
     "output_type": "execute_result"
    }
   ],
   "source": [
    "newdf.iloc[0,4]\n",
    "# 0--> row place 0th element\n",
    "# 4 --> column place 4th element(E)\n",
    "# 0.19238612658525533"
   ]
  },
  {
   "cell_type": "code",
   "execution_count": 64,
   "id": "0c87cb3f",
   "metadata": {},
   "outputs": [
    {
     "data": {
      "text/html": [
       "<div>\n",
       "<style scoped>\n",
       "    .dataframe tbody tr th:only-of-type {\n",
       "        vertical-align: middle;\n",
       "    }\n",
       "\n",
       "    .dataframe tbody tr th {\n",
       "        vertical-align: top;\n",
       "    }\n",
       "\n",
       "    .dataframe thead th {\n",
       "        text-align: right;\n",
       "    }\n",
       "</style>\n",
       "<table border=\"1\" class=\"dataframe\">\n",
       "  <thead>\n",
       "    <tr style=\"text-align: right;\">\n",
       "      <th></th>\n",
       "      <th>B</th>\n",
       "      <th>C</th>\n",
       "    </tr>\n",
       "  </thead>\n",
       "  <tbody>\n",
       "    <tr>\n",
       "      <th>0</th>\n",
       "      <td>0.451231</td>\n",
       "      <td>0.39112</td>\n",
       "    </tr>\n",
       "    <tr>\n",
       "      <th>5</th>\n",
       "      <td>0.652473</td>\n",
       "      <td>0.91267</td>\n",
       "    </tr>\n",
       "  </tbody>\n",
       "</table>\n",
       "</div>"
      ],
      "text/plain": [
       "          B        C\n",
       "0  0.451231  0.39112\n",
       "5  0.652473  0.91267"
      ]
     },
     "execution_count": 64,
     "metadata": {},
     "output_type": "execute_result"
    }
   ],
   "source": [
    "newdf.iloc[[0,5],[1,2]]\n",
    "# [0,5] -- for row place 0th and 5th element(0,1)\n",
    "# [1,2] -- for column place 1st and 2nd element(B,C)"
   ]
  },
  {
   "cell_type": "markdown",
   "id": "f3d8b12a",
   "metadata": {},
   "source": [
    "# Drop a row data "
   ]
  },
  {
   "cell_type": "code",
   "execution_count": 65,
   "id": "4f64d3e0",
   "metadata": {},
   "outputs": [
    {
     "data": {
      "text/html": [
       "<div>\n",
       "<style scoped>\n",
       "    .dataframe tbody tr th:only-of-type {\n",
       "        vertical-align: middle;\n",
       "    }\n",
       "\n",
       "    .dataframe tbody tr th {\n",
       "        vertical-align: top;\n",
       "    }\n",
       "\n",
       "    .dataframe thead th {\n",
       "        text-align: right;\n",
       "    }\n",
       "</style>\n",
       "<table border=\"1\" class=\"dataframe\">\n",
       "  <thead>\n",
       "    <tr style=\"text-align: right;\">\n",
       "      <th></th>\n",
       "      <th>A</th>\n",
       "      <th>B</th>\n",
       "      <th>C</th>\n",
       "      <th>D</th>\n",
       "      <th>E</th>\n",
       "    </tr>\n",
       "  </thead>\n",
       "  <tbody>\n",
       "    <tr>\n",
       "      <th>0</th>\n",
       "      <td>654</td>\n",
       "      <td>0.451231</td>\n",
       "      <td>0.391120</td>\n",
       "      <td>0.075522</td>\n",
       "      <td>0.318420</td>\n",
       "    </tr>\n",
       "    <tr>\n",
       "      <th>1</th>\n",
       "      <td>0.556813</td>\n",
       "      <td>0.030761</td>\n",
       "      <td>0.314216</td>\n",
       "      <td>0.265978</td>\n",
       "      <td>0.439652</td>\n",
       "    </tr>\n",
       "    <tr>\n",
       "      <th>2</th>\n",
       "      <td>0.455705</td>\n",
       "      <td>0.677092</td>\n",
       "      <td>0.827952</td>\n",
       "      <td>0.149986</td>\n",
       "      <td>0.771090</td>\n",
       "    </tr>\n",
       "  </tbody>\n",
       "</table>\n",
       "</div>"
      ],
      "text/plain": [
       "          A         B         C         D         E\n",
       "0       654  0.451231  0.391120  0.075522  0.318420\n",
       "1  0.556813  0.030761  0.314216  0.265978  0.439652\n",
       "2  0.455705  0.677092  0.827952  0.149986  0.771090"
      ]
     },
     "execution_count": 65,
     "metadata": {},
     "output_type": "execute_result"
    }
   ],
   "source": [
    "newdf.head(3)"
   ]
  },
  {
   "cell_type": "code",
   "execution_count": 66,
   "id": "ca578391",
   "metadata": {},
   "outputs": [
    {
     "data": {
      "text/html": [
       "<div>\n",
       "<style scoped>\n",
       "    .dataframe tbody tr th:only-of-type {\n",
       "        vertical-align: middle;\n",
       "    }\n",
       "\n",
       "    .dataframe tbody tr th {\n",
       "        vertical-align: top;\n",
       "    }\n",
       "\n",
       "    .dataframe thead th {\n",
       "        text-align: right;\n",
       "    }\n",
       "</style>\n",
       "<table border=\"1\" class=\"dataframe\">\n",
       "  <thead>\n",
       "    <tr style=\"text-align: right;\">\n",
       "      <th></th>\n",
       "      <th>A</th>\n",
       "      <th>B</th>\n",
       "      <th>C</th>\n",
       "      <th>D</th>\n",
       "      <th>E</th>\n",
       "    </tr>\n",
       "  </thead>\n",
       "  <tbody>\n",
       "    <tr>\n",
       "      <th>1</th>\n",
       "      <td>0.556813</td>\n",
       "      <td>0.030761</td>\n",
       "      <td>0.314216</td>\n",
       "      <td>0.265978</td>\n",
       "      <td>0.439652</td>\n",
       "    </tr>\n",
       "    <tr>\n",
       "      <th>2</th>\n",
       "      <td>0.455705</td>\n",
       "      <td>0.677092</td>\n",
       "      <td>0.827952</td>\n",
       "      <td>0.149986</td>\n",
       "      <td>0.771090</td>\n",
       "    </tr>\n",
       "    <tr>\n",
       "      <th>3</th>\n",
       "      <td>0.165096</td>\n",
       "      <td>0.874907</td>\n",
       "      <td>0.583527</td>\n",
       "      <td>0.874514</td>\n",
       "      <td>0.490397</td>\n",
       "    </tr>\n",
       "    <tr>\n",
       "      <th>4</th>\n",
       "      <td>0.59896</td>\n",
       "      <td>0.300733</td>\n",
       "      <td>0.499311</td>\n",
       "      <td>0.867183</td>\n",
       "      <td>0.889457</td>\n",
       "    </tr>\n",
       "  </tbody>\n",
       "</table>\n",
       "</div>"
      ],
      "text/plain": [
       "          A         B         C         D         E\n",
       "1  0.556813  0.030761  0.314216  0.265978  0.439652\n",
       "2  0.455705  0.677092  0.827952  0.149986  0.771090\n",
       "3  0.165096  0.874907  0.583527  0.874514  0.490397\n",
       "4   0.59896  0.300733  0.499311  0.867183  0.889457"
      ]
     },
     "execution_count": 66,
     "metadata": {},
     "output_type": "execute_result"
    }
   ],
   "source": [
    "newdf.head().drop([0])\n",
    "# row 0 deleted"
   ]
  },
  {
   "cell_type": "markdown",
   "id": "ce7eb408",
   "metadata": {},
   "source": [
    "# Drop a column"
   ]
  },
  {
   "cell_type": "code",
   "execution_count": 67,
   "id": "1f992a46",
   "metadata": {},
   "outputs": [
    {
     "data": {
      "text/html": [
       "<div>\n",
       "<style scoped>\n",
       "    .dataframe tbody tr th:only-of-type {\n",
       "        vertical-align: middle;\n",
       "    }\n",
       "\n",
       "    .dataframe tbody tr th {\n",
       "        vertical-align: top;\n",
       "    }\n",
       "\n",
       "    .dataframe thead th {\n",
       "        text-align: right;\n",
       "    }\n",
       "</style>\n",
       "<table border=\"1\" class=\"dataframe\">\n",
       "  <thead>\n",
       "    <tr style=\"text-align: right;\">\n",
       "      <th></th>\n",
       "      <th>B</th>\n",
       "      <th>C</th>\n",
       "      <th>E</th>\n",
       "    </tr>\n",
       "  </thead>\n",
       "  <tbody>\n",
       "    <tr>\n",
       "      <th>0</th>\n",
       "      <td>0.451231</td>\n",
       "      <td>0.391120</td>\n",
       "      <td>0.318420</td>\n",
       "    </tr>\n",
       "    <tr>\n",
       "      <th>1</th>\n",
       "      <td>0.030761</td>\n",
       "      <td>0.314216</td>\n",
       "      <td>0.439652</td>\n",
       "    </tr>\n",
       "    <tr>\n",
       "      <th>2</th>\n",
       "      <td>0.677092</td>\n",
       "      <td>0.827952</td>\n",
       "      <td>0.771090</td>\n",
       "    </tr>\n",
       "    <tr>\n",
       "      <th>3</th>\n",
       "      <td>0.874907</td>\n",
       "      <td>0.583527</td>\n",
       "      <td>0.490397</td>\n",
       "    </tr>\n",
       "    <tr>\n",
       "      <th>4</th>\n",
       "      <td>0.300733</td>\n",
       "      <td>0.499311</td>\n",
       "      <td>0.889457</td>\n",
       "    </tr>\n",
       "  </tbody>\n",
       "</table>\n",
       "</div>"
      ],
      "text/plain": [
       "          B         C         E\n",
       "0  0.451231  0.391120  0.318420\n",
       "1  0.030761  0.314216  0.439652\n",
       "2  0.677092  0.827952  0.771090\n",
       "3  0.874907  0.583527  0.490397\n",
       "4  0.300733  0.499311  0.889457"
      ]
     },
     "execution_count": 67,
     "metadata": {},
     "output_type": "execute_result"
    }
   ],
   "source": [
    "newdf.head().drop(['A','D'],axis = 1)\n",
    "# column 'A' deleted\n",
    "# it will not be reflect on newdf bcz it's only a copy of it.\n",
    "# if we really want to change the newdf data then we should write in this way\n",
    "# newdf = newdf.head().drop(['A','D'],axis = 1)\n",
    "\n",
    "# there is also a way to doing it .\n",
    "# it will delete permanently from the original newdf dataFrame\n",
    "# newdf.drop(['A','D'],axis = 1, inplace = True)"
   ]
  },
  {
   "cell_type": "code",
   "execution_count": 68,
   "id": "04a0075d",
   "metadata": {},
   "outputs": [],
   "source": [
    "newdf.drop([1,5],axis=0,inplace=True)"
   ]
  },
  {
   "cell_type": "code",
   "execution_count": 69,
   "id": "27596ba1",
   "metadata": {},
   "outputs": [
    {
     "data": {
      "text/html": [
       "<div>\n",
       "<style scoped>\n",
       "    .dataframe tbody tr th:only-of-type {\n",
       "        vertical-align: middle;\n",
       "    }\n",
       "\n",
       "    .dataframe tbody tr th {\n",
       "        vertical-align: top;\n",
       "    }\n",
       "\n",
       "    .dataframe thead th {\n",
       "        text-align: right;\n",
       "    }\n",
       "</style>\n",
       "<table border=\"1\" class=\"dataframe\">\n",
       "  <thead>\n",
       "    <tr style=\"text-align: right;\">\n",
       "      <th></th>\n",
       "      <th>A</th>\n",
       "      <th>B</th>\n",
       "      <th>C</th>\n",
       "      <th>D</th>\n",
       "      <th>E</th>\n",
       "    </tr>\n",
       "  </thead>\n",
       "  <tbody>\n",
       "    <tr>\n",
       "      <th>0</th>\n",
       "      <td>654</td>\n",
       "      <td>0.451231</td>\n",
       "      <td>0.391120</td>\n",
       "      <td>0.075522</td>\n",
       "      <td>0.318420</td>\n",
       "    </tr>\n",
       "    <tr>\n",
       "      <th>2</th>\n",
       "      <td>0.455705</td>\n",
       "      <td>0.677092</td>\n",
       "      <td>0.827952</td>\n",
       "      <td>0.149986</td>\n",
       "      <td>0.771090</td>\n",
       "    </tr>\n",
       "    <tr>\n",
       "      <th>3</th>\n",
       "      <td>0.165096</td>\n",
       "      <td>0.874907</td>\n",
       "      <td>0.583527</td>\n",
       "      <td>0.874514</td>\n",
       "      <td>0.490397</td>\n",
       "    </tr>\n",
       "    <tr>\n",
       "      <th>4</th>\n",
       "      <td>0.59896</td>\n",
       "      <td>0.300733</td>\n",
       "      <td>0.499311</td>\n",
       "      <td>0.867183</td>\n",
       "      <td>0.889457</td>\n",
       "    </tr>\n",
       "    <tr>\n",
       "      <th>6</th>\n",
       "      <td>0.986004</td>\n",
       "      <td>0.474710</td>\n",
       "      <td>0.122566</td>\n",
       "      <td>0.527463</td>\n",
       "      <td>0.610269</td>\n",
       "    </tr>\n",
       "  </tbody>\n",
       "</table>\n",
       "</div>"
      ],
      "text/plain": [
       "          A         B         C         D         E\n",
       "0       654  0.451231  0.391120  0.075522  0.318420\n",
       "2  0.455705  0.677092  0.827952  0.149986  0.771090\n",
       "3  0.165096  0.874907  0.583527  0.874514  0.490397\n",
       "4   0.59896  0.300733  0.499311  0.867183  0.889457\n",
       "6  0.986004  0.474710  0.122566  0.527463  0.610269"
      ]
     },
     "execution_count": 69,
     "metadata": {},
     "output_type": "execute_result"
    }
   ],
   "source": [
    "newdf.head()\n",
    "# 1 and 5th row deleted"
   ]
  },
  {
   "cell_type": "markdown",
   "id": "b8a1dbfd",
   "metadata": {},
   "source": [
    "# reset index "
   ]
  },
  {
   "cell_type": "code",
   "execution_count": 70,
   "id": "e3775a3d",
   "metadata": {},
   "outputs": [
    {
     "data": {
      "text/html": [
       "<div>\n",
       "<style scoped>\n",
       "    .dataframe tbody tr th:only-of-type {\n",
       "        vertical-align: middle;\n",
       "    }\n",
       "\n",
       "    .dataframe tbody tr th {\n",
       "        vertical-align: top;\n",
       "    }\n",
       "\n",
       "    .dataframe thead th {\n",
       "        text-align: right;\n",
       "    }\n",
       "</style>\n",
       "<table border=\"1\" class=\"dataframe\">\n",
       "  <thead>\n",
       "    <tr style=\"text-align: right;\">\n",
       "      <th></th>\n",
       "      <th>index</th>\n",
       "      <th>A</th>\n",
       "      <th>B</th>\n",
       "      <th>C</th>\n",
       "      <th>D</th>\n",
       "      <th>E</th>\n",
       "    </tr>\n",
       "  </thead>\n",
       "  <tbody>\n",
       "    <tr>\n",
       "      <th>0</th>\n",
       "      <td>0</td>\n",
       "      <td>654</td>\n",
       "      <td>0.451231</td>\n",
       "      <td>0.391120</td>\n",
       "      <td>0.075522</td>\n",
       "      <td>0.318420</td>\n",
       "    </tr>\n",
       "    <tr>\n",
       "      <th>1</th>\n",
       "      <td>2</td>\n",
       "      <td>0.455705</td>\n",
       "      <td>0.677092</td>\n",
       "      <td>0.827952</td>\n",
       "      <td>0.149986</td>\n",
       "      <td>0.771090</td>\n",
       "    </tr>\n",
       "    <tr>\n",
       "      <th>2</th>\n",
       "      <td>3</td>\n",
       "      <td>0.165096</td>\n",
       "      <td>0.874907</td>\n",
       "      <td>0.583527</td>\n",
       "      <td>0.874514</td>\n",
       "      <td>0.490397</td>\n",
       "    </tr>\n",
       "    <tr>\n",
       "      <th>3</th>\n",
       "      <td>4</td>\n",
       "      <td>0.59896</td>\n",
       "      <td>0.300733</td>\n",
       "      <td>0.499311</td>\n",
       "      <td>0.867183</td>\n",
       "      <td>0.889457</td>\n",
       "    </tr>\n",
       "    <tr>\n",
       "      <th>4</th>\n",
       "      <td>6</td>\n",
       "      <td>0.986004</td>\n",
       "      <td>0.474710</td>\n",
       "      <td>0.122566</td>\n",
       "      <td>0.527463</td>\n",
       "      <td>0.610269</td>\n",
       "    </tr>\n",
       "  </tbody>\n",
       "</table>\n",
       "</div>"
      ],
      "text/plain": [
       "   index         A         B         C         D         E\n",
       "0      0       654  0.451231  0.391120  0.075522  0.318420\n",
       "1      2  0.455705  0.677092  0.827952  0.149986  0.771090\n",
       "2      3  0.165096  0.874907  0.583527  0.874514  0.490397\n",
       "3      4   0.59896  0.300733  0.499311  0.867183  0.889457\n",
       "4      6  0.986004  0.474710  0.122566  0.527463  0.610269"
      ]
     },
     "execution_count": 70,
     "metadata": {},
     "output_type": "execute_result"
    }
   ],
   "source": [
    "# if we want to convert upper DataFrame index to secquential format like 0,1.......\n",
    "newdf.head().reset_index()\n",
    "# it will reset index but also add a new Column named as index"
   ]
  },
  {
   "cell_type": "code",
   "execution_count": 71,
   "id": "2622929e",
   "metadata": {},
   "outputs": [],
   "source": [
    "# we want to remove this column named as index\n",
    "newdf.reset_index(drop=True,inplace=True)"
   ]
  },
  {
   "cell_type": "code",
   "execution_count": 72,
   "id": "8d1c7fc0",
   "metadata": {},
   "outputs": [
    {
     "data": {
      "text/html": [
       "<div>\n",
       "<style scoped>\n",
       "    .dataframe tbody tr th:only-of-type {\n",
       "        vertical-align: middle;\n",
       "    }\n",
       "\n",
       "    .dataframe tbody tr th {\n",
       "        vertical-align: top;\n",
       "    }\n",
       "\n",
       "    .dataframe thead th {\n",
       "        text-align: right;\n",
       "    }\n",
       "</style>\n",
       "<table border=\"1\" class=\"dataframe\">\n",
       "  <thead>\n",
       "    <tr style=\"text-align: right;\">\n",
       "      <th></th>\n",
       "      <th>A</th>\n",
       "      <th>B</th>\n",
       "      <th>C</th>\n",
       "      <th>D</th>\n",
       "      <th>E</th>\n",
       "    </tr>\n",
       "  </thead>\n",
       "  <tbody>\n",
       "    <tr>\n",
       "      <th>0</th>\n",
       "      <td>654</td>\n",
       "      <td>0.451231</td>\n",
       "      <td>0.391120</td>\n",
       "      <td>0.075522</td>\n",
       "      <td>0.318420</td>\n",
       "    </tr>\n",
       "    <tr>\n",
       "      <th>1</th>\n",
       "      <td>0.455705</td>\n",
       "      <td>0.677092</td>\n",
       "      <td>0.827952</td>\n",
       "      <td>0.149986</td>\n",
       "      <td>0.771090</td>\n",
       "    </tr>\n",
       "    <tr>\n",
       "      <th>2</th>\n",
       "      <td>0.165096</td>\n",
       "      <td>0.874907</td>\n",
       "      <td>0.583527</td>\n",
       "      <td>0.874514</td>\n",
       "      <td>0.490397</td>\n",
       "    </tr>\n",
       "    <tr>\n",
       "      <th>3</th>\n",
       "      <td>0.59896</td>\n",
       "      <td>0.300733</td>\n",
       "      <td>0.499311</td>\n",
       "      <td>0.867183</td>\n",
       "      <td>0.889457</td>\n",
       "    </tr>\n",
       "    <tr>\n",
       "      <th>4</th>\n",
       "      <td>0.986004</td>\n",
       "      <td>0.474710</td>\n",
       "      <td>0.122566</td>\n",
       "      <td>0.527463</td>\n",
       "      <td>0.610269</td>\n",
       "    </tr>\n",
       "  </tbody>\n",
       "</table>\n",
       "</div>"
      ],
      "text/plain": [
       "          A         B         C         D         E\n",
       "0       654  0.451231  0.391120  0.075522  0.318420\n",
       "1  0.455705  0.677092  0.827952  0.149986  0.771090\n",
       "2  0.165096  0.874907  0.583527  0.874514  0.490397\n",
       "3   0.59896  0.300733  0.499311  0.867183  0.889457\n",
       "4  0.986004  0.474710  0.122566  0.527463  0.610269"
      ]
     },
     "execution_count": 72,
     "metadata": {},
     "output_type": "execute_result"
    }
   ],
   "source": [
    "newdf.head()\n",
    "# our index reset successfully"
   ]
  },
  {
   "cell_type": "markdown",
   "id": "9c5b6ff7",
   "metadata": {},
   "source": [
    "# checking null values"
   ]
  },
  {
   "cell_type": "code",
   "execution_count": 73,
   "id": "406e3690",
   "metadata": {},
   "outputs": [
    {
     "data": {
      "text/plain": [
       "0    False\n",
       "1    False\n",
       "2    False\n",
       "3    False\n",
       "4    False\n",
       "Name: B, dtype: bool"
      ]
     },
     "execution_count": 73,
     "metadata": {},
     "output_type": "execute_result"
    }
   ],
   "source": [
    "newdf.head()['B'].isnull()\n",
    "# if value null it's giving True else False\n",
    "# false means values are not null"
   ]
  },
  {
   "cell_type": "markdown",
   "id": "2cecf7a9",
   "metadata": {},
   "source": [
    "# checking not null"
   ]
  },
  {
   "cell_type": "code",
   "execution_count": 99,
   "id": "fbfde0d9",
   "metadata": {},
   "outputs": [
    {
     "data": {
      "text/html": [
       "<div>\n",
       "<style scoped>\n",
       "    .dataframe tbody tr th:only-of-type {\n",
       "        vertical-align: middle;\n",
       "    }\n",
       "\n",
       "    .dataframe tbody tr th {\n",
       "        vertical-align: top;\n",
       "    }\n",
       "\n",
       "    .dataframe thead th {\n",
       "        text-align: right;\n",
       "    }\n",
       "</style>\n",
       "<table border=\"1\" class=\"dataframe\">\n",
       "  <thead>\n",
       "    <tr style=\"text-align: right;\">\n",
       "      <th></th>\n",
       "      <th>A</th>\n",
       "      <th>B</th>\n",
       "      <th>C</th>\n",
       "      <th>D</th>\n",
       "      <th>E</th>\n",
       "    </tr>\n",
       "  </thead>\n",
       "  <tbody>\n",
       "    <tr>\n",
       "      <th>0</th>\n",
       "      <td>True</td>\n",
       "      <td>False</td>\n",
       "      <td>True</td>\n",
       "      <td>True</td>\n",
       "      <td>True</td>\n",
       "    </tr>\n",
       "    <tr>\n",
       "      <th>1</th>\n",
       "      <td>True</td>\n",
       "      <td>False</td>\n",
       "      <td>True</td>\n",
       "      <td>True</td>\n",
       "      <td>True</td>\n",
       "    </tr>\n",
       "    <tr>\n",
       "      <th>2</th>\n",
       "      <td>True</td>\n",
       "      <td>False</td>\n",
       "      <td>True</td>\n",
       "      <td>True</td>\n",
       "      <td>True</td>\n",
       "    </tr>\n",
       "    <tr>\n",
       "      <th>3</th>\n",
       "      <td>True</td>\n",
       "      <td>False</td>\n",
       "      <td>True</td>\n",
       "      <td>True</td>\n",
       "      <td>True</td>\n",
       "    </tr>\n",
       "    <tr>\n",
       "      <th>4</th>\n",
       "      <td>True</td>\n",
       "      <td>False</td>\n",
       "      <td>True</td>\n",
       "      <td>True</td>\n",
       "      <td>True</td>\n",
       "    </tr>\n",
       "  </tbody>\n",
       "</table>\n",
       "</div>"
      ],
      "text/plain": [
       "      A      B     C     D     E\n",
       "0  True  False  True  True  True\n",
       "1  True  False  True  True  True\n",
       "2  True  False  True  True  True\n",
       "3  True  False  True  True  True\n",
       "4  True  False  True  True  True"
      ]
     },
     "execution_count": 99,
     "metadata": {},
     "output_type": "execute_result"
    }
   ],
   "source": [
    "newdf.head().notnull()\n",
    "# if the value is not null then it's return True else False"
   ]
  },
  {
   "cell_type": "markdown",
   "id": "d2295029",
   "metadata": {},
   "source": [
    "# convert all values to none"
   ]
  },
  {
   "cell_type": "code",
   "execution_count": 80,
   "id": "b22cd93f",
   "metadata": {},
   "outputs": [],
   "source": [
    "#newdf['B'] = None\n",
    "# don't use this method instead use this\n",
    "newdf.loc[:,['B']]= None\n",
    "# all value of B column is None"
   ]
  },
  {
   "cell_type": "code",
   "execution_count": 81,
   "id": "8d13ccb5",
   "metadata": {},
   "outputs": [
    {
     "data": {
      "text/html": [
       "<div>\n",
       "<style scoped>\n",
       "    .dataframe tbody tr th:only-of-type {\n",
       "        vertical-align: middle;\n",
       "    }\n",
       "\n",
       "    .dataframe tbody tr th {\n",
       "        vertical-align: top;\n",
       "    }\n",
       "\n",
       "    .dataframe thead th {\n",
       "        text-align: right;\n",
       "    }\n",
       "</style>\n",
       "<table border=\"1\" class=\"dataframe\">\n",
       "  <thead>\n",
       "    <tr style=\"text-align: right;\">\n",
       "      <th></th>\n",
       "      <th>A</th>\n",
       "      <th>B</th>\n",
       "      <th>C</th>\n",
       "      <th>D</th>\n",
       "      <th>E</th>\n",
       "    </tr>\n",
       "  </thead>\n",
       "  <tbody>\n",
       "    <tr>\n",
       "      <th>0</th>\n",
       "      <td>654</td>\n",
       "      <td>None</td>\n",
       "      <td>0.391120</td>\n",
       "      <td>0.075522</td>\n",
       "      <td>0.318420</td>\n",
       "    </tr>\n",
       "    <tr>\n",
       "      <th>1</th>\n",
       "      <td>0.455705</td>\n",
       "      <td>None</td>\n",
       "      <td>0.827952</td>\n",
       "      <td>0.149986</td>\n",
       "      <td>0.771090</td>\n",
       "    </tr>\n",
       "    <tr>\n",
       "      <th>2</th>\n",
       "      <td>0.165096</td>\n",
       "      <td>None</td>\n",
       "      <td>0.583527</td>\n",
       "      <td>0.874514</td>\n",
       "      <td>0.490397</td>\n",
       "    </tr>\n",
       "    <tr>\n",
       "      <th>3</th>\n",
       "      <td>0.59896</td>\n",
       "      <td>None</td>\n",
       "      <td>0.499311</td>\n",
       "      <td>0.867183</td>\n",
       "      <td>0.889457</td>\n",
       "    </tr>\n",
       "    <tr>\n",
       "      <th>4</th>\n",
       "      <td>0.986004</td>\n",
       "      <td>None</td>\n",
       "      <td>0.122566</td>\n",
       "      <td>0.527463</td>\n",
       "      <td>0.610269</td>\n",
       "    </tr>\n",
       "  </tbody>\n",
       "</table>\n",
       "</div>"
      ],
      "text/plain": [
       "          A     B         C         D         E\n",
       "0       654  None  0.391120  0.075522  0.318420\n",
       "1  0.455705  None  0.827952  0.149986  0.771090\n",
       "2  0.165096  None  0.583527  0.874514  0.490397\n",
       "3   0.59896  None  0.499311  0.867183  0.889457\n",
       "4  0.986004  None  0.122566  0.527463  0.610269"
      ]
     },
     "execution_count": 81,
     "metadata": {},
     "output_type": "execute_result"
    }
   ],
   "source": [
    "newdf.head()\n"
   ]
  },
  {
   "cell_type": "code",
   "execution_count": 82,
   "id": "ec39677c",
   "metadata": {},
   "outputs": [
    {
     "data": {
      "text/html": [
       "<div>\n",
       "<style scoped>\n",
       "    .dataframe tbody tr th:only-of-type {\n",
       "        vertical-align: middle;\n",
       "    }\n",
       "\n",
       "    .dataframe tbody tr th {\n",
       "        vertical-align: top;\n",
       "    }\n",
       "\n",
       "    .dataframe thead th {\n",
       "        text-align: right;\n",
       "    }\n",
       "</style>\n",
       "<table border=\"1\" class=\"dataframe\">\n",
       "  <thead>\n",
       "    <tr style=\"text-align: right;\">\n",
       "      <th></th>\n",
       "      <th>A</th>\n",
       "      <th>B</th>\n",
       "      <th>C</th>\n",
       "      <th>D</th>\n",
       "      <th>E</th>\n",
       "    </tr>\n",
       "  </thead>\n",
       "  <tbody>\n",
       "    <tr>\n",
       "      <th>0</th>\n",
       "      <td>False</td>\n",
       "      <td>True</td>\n",
       "      <td>False</td>\n",
       "      <td>False</td>\n",
       "      <td>False</td>\n",
       "    </tr>\n",
       "    <tr>\n",
       "      <th>1</th>\n",
       "      <td>False</td>\n",
       "      <td>True</td>\n",
       "      <td>False</td>\n",
       "      <td>False</td>\n",
       "      <td>False</td>\n",
       "    </tr>\n",
       "    <tr>\n",
       "      <th>2</th>\n",
       "      <td>False</td>\n",
       "      <td>True</td>\n",
       "      <td>False</td>\n",
       "      <td>False</td>\n",
       "      <td>False</td>\n",
       "    </tr>\n",
       "    <tr>\n",
       "      <th>3</th>\n",
       "      <td>False</td>\n",
       "      <td>True</td>\n",
       "      <td>False</td>\n",
       "      <td>False</td>\n",
       "      <td>False</td>\n",
       "    </tr>\n",
       "    <tr>\n",
       "      <th>4</th>\n",
       "      <td>False</td>\n",
       "      <td>True</td>\n",
       "      <td>False</td>\n",
       "      <td>False</td>\n",
       "      <td>False</td>\n",
       "    </tr>\n",
       "  </tbody>\n",
       "</table>\n",
       "</div>"
      ],
      "text/plain": [
       "       A     B      C      D      E\n",
       "0  False  True  False  False  False\n",
       "1  False  True  False  False  False\n",
       "2  False  True  False  False  False\n",
       "3  False  True  False  False  False\n",
       "4  False  True  False  False  False"
      ]
     },
     "execution_count": 82,
     "metadata": {},
     "output_type": "execute_result"
    }
   ],
   "source": [
    "newdf.head().isnull()"
   ]
  },
  {
   "cell_type": "code",
   "execution_count": 83,
   "id": "6aab658a",
   "metadata": {},
   "outputs": [
    {
     "data": {
      "text/html": [
       "<div>\n",
       "<style scoped>\n",
       "    .dataframe tbody tr th:only-of-type {\n",
       "        vertical-align: middle;\n",
       "    }\n",
       "\n",
       "    .dataframe tbody tr th {\n",
       "        vertical-align: top;\n",
       "    }\n",
       "\n",
       "    .dataframe thead th {\n",
       "        text-align: right;\n",
       "    }\n",
       "</style>\n",
       "<table border=\"1\" class=\"dataframe\">\n",
       "  <thead>\n",
       "    <tr style=\"text-align: right;\">\n",
       "      <th></th>\n",
       "      <th>A</th>\n",
       "      <th>B</th>\n",
       "      <th>C</th>\n",
       "      <th>D</th>\n",
       "      <th>E</th>\n",
       "    </tr>\n",
       "  </thead>\n",
       "  <tbody>\n",
       "    <tr>\n",
       "      <th>0</th>\n",
       "      <td>654</td>\n",
       "      <td>None</td>\n",
       "      <td>0.391120</td>\n",
       "      <td>0.075522</td>\n",
       "      <td>0.318420</td>\n",
       "    </tr>\n",
       "    <tr>\n",
       "      <th>1</th>\n",
       "      <td>0.455705</td>\n",
       "      <td>None</td>\n",
       "      <td>0.827952</td>\n",
       "      <td>0.149986</td>\n",
       "      <td>0.771090</td>\n",
       "    </tr>\n",
       "    <tr>\n",
       "      <th>2</th>\n",
       "      <td>0.165096</td>\n",
       "      <td>None</td>\n",
       "      <td>0.583527</td>\n",
       "      <td>0.874514</td>\n",
       "      <td>0.490397</td>\n",
       "    </tr>\n",
       "    <tr>\n",
       "      <th>3</th>\n",
       "      <td>0.59896</td>\n",
       "      <td>None</td>\n",
       "      <td>0.499311</td>\n",
       "      <td>0.867183</td>\n",
       "      <td>0.889457</td>\n",
       "    </tr>\n",
       "    <tr>\n",
       "      <th>4</th>\n",
       "      <td>0.986004</td>\n",
       "      <td>None</td>\n",
       "      <td>0.122566</td>\n",
       "      <td>0.527463</td>\n",
       "      <td>0.610269</td>\n",
       "    </tr>\n",
       "  </tbody>\n",
       "</table>\n",
       "</div>"
      ],
      "text/plain": [
       "          A     B         C         D         E\n",
       "0       654  None  0.391120  0.075522  0.318420\n",
       "1  0.455705  None  0.827952  0.149986  0.771090\n",
       "2  0.165096  None  0.583527  0.874514  0.490397\n",
       "3   0.59896  None  0.499311  0.867183  0.889457\n",
       "4  0.986004  None  0.122566  0.527463  0.610269"
      ]
     },
     "execution_count": 83,
     "metadata": {},
     "output_type": "execute_result"
    }
   ],
   "source": [
    "newdf.head()"
   ]
  },
  {
   "cell_type": "markdown",
   "id": "1a488bc2",
   "metadata": {},
   "source": [
    "# -----------------------------------------"
   ]
  },
  {
   "cell_type": "code",
   "execution_count": 84,
   "id": "a1c8079b",
   "metadata": {},
   "outputs": [],
   "source": [
    "df = pd.DataFrame({\"name\": ['Alfred', 'Batman', 'Catwoman'],\n",
    "                   \"toy\": [np.nan, 'Batmobile', 'Bullwhip'],\n",
    "                   \"born\": [pd.NaT, pd.Timestamp(\"1940-04-25\"),\n",
    "                            pd.NaT]})"
   ]
  },
  {
   "cell_type": "code",
   "execution_count": 85,
   "id": "eebe3f8e",
   "metadata": {},
   "outputs": [
    {
     "data": {
      "text/html": [
       "<div>\n",
       "<style scoped>\n",
       "    .dataframe tbody tr th:only-of-type {\n",
       "        vertical-align: middle;\n",
       "    }\n",
       "\n",
       "    .dataframe tbody tr th {\n",
       "        vertical-align: top;\n",
       "    }\n",
       "\n",
       "    .dataframe thead th {\n",
       "        text-align: right;\n",
       "    }\n",
       "</style>\n",
       "<table border=\"1\" class=\"dataframe\">\n",
       "  <thead>\n",
       "    <tr style=\"text-align: right;\">\n",
       "      <th></th>\n",
       "      <th>name</th>\n",
       "      <th>toy</th>\n",
       "      <th>born</th>\n",
       "    </tr>\n",
       "  </thead>\n",
       "  <tbody>\n",
       "    <tr>\n",
       "      <th>0</th>\n",
       "      <td>Alfred</td>\n",
       "      <td>NaN</td>\n",
       "      <td>NaT</td>\n",
       "    </tr>\n",
       "    <tr>\n",
       "      <th>1</th>\n",
       "      <td>Batman</td>\n",
       "      <td>Batmobile</td>\n",
       "      <td>1940-04-25</td>\n",
       "    </tr>\n",
       "    <tr>\n",
       "      <th>2</th>\n",
       "      <td>Catwoman</td>\n",
       "      <td>Bullwhip</td>\n",
       "      <td>NaT</td>\n",
       "    </tr>\n",
       "  </tbody>\n",
       "</table>\n",
       "</div>"
      ],
      "text/plain": [
       "       name        toy       born\n",
       "0    Alfred        NaN        NaT\n",
       "1    Batman  Batmobile 1940-04-25\n",
       "2  Catwoman   Bullwhip        NaT"
      ]
     },
     "execution_count": 85,
     "metadata": {},
     "output_type": "execute_result"
    }
   ],
   "source": [
    "df.head()"
   ]
  },
  {
   "cell_type": "markdown",
   "id": "01b755fb",
   "metadata": {},
   "source": [
    "# Drop the rows where at least one element is missing"
   ]
  },
  {
   "cell_type": "code",
   "execution_count": 86,
   "id": "d1bb7d5f",
   "metadata": {},
   "outputs": [
    {
     "data": {
      "text/html": [
       "<div>\n",
       "<style scoped>\n",
       "    .dataframe tbody tr th:only-of-type {\n",
       "        vertical-align: middle;\n",
       "    }\n",
       "\n",
       "    .dataframe tbody tr th {\n",
       "        vertical-align: top;\n",
       "    }\n",
       "\n",
       "    .dataframe thead th {\n",
       "        text-align: right;\n",
       "    }\n",
       "</style>\n",
       "<table border=\"1\" class=\"dataframe\">\n",
       "  <thead>\n",
       "    <tr style=\"text-align: right;\">\n",
       "      <th></th>\n",
       "      <th>name</th>\n",
       "      <th>toy</th>\n",
       "      <th>born</th>\n",
       "    </tr>\n",
       "  </thead>\n",
       "  <tbody>\n",
       "    <tr>\n",
       "      <th>1</th>\n",
       "      <td>Batman</td>\n",
       "      <td>Batmobile</td>\n",
       "      <td>1940-04-25</td>\n",
       "    </tr>\n",
       "  </tbody>\n",
       "</table>\n",
       "</div>"
      ],
      "text/plain": [
       "     name        toy       born\n",
       "1  Batman  Batmobile 1940-04-25"
      ]
     },
     "execution_count": 86,
     "metadata": {},
     "output_type": "execute_result"
    }
   ],
   "source": [
    "df.dropna()"
   ]
  },
  {
   "cell_type": "code",
   "execution_count": 88,
   "id": "b9666ad2",
   "metadata": {},
   "outputs": [
    {
     "data": {
      "text/plain": [
       "(3, 3)"
      ]
     },
     "execution_count": 88,
     "metadata": {},
     "output_type": "execute_result"
    }
   ],
   "source": [
    "df.shape"
   ]
  },
  {
   "cell_type": "code",
   "execution_count": 89,
   "id": "b677a1d0",
   "metadata": {},
   "outputs": [
    {
     "data": {
      "text/plain": [
       "<bound method DataFrame.info of        name        toy       born\n",
       "0    Alfred        NaN        NaT\n",
       "1    Batman  Batmobile 1940-04-25\n",
       "2  Catwoman   Bullwhip        NaT>"
      ]
     },
     "execution_count": 89,
     "metadata": {},
     "output_type": "execute_result"
    }
   ],
   "source": [
    "df.info"
   ]
  },
  {
   "cell_type": "code",
   "execution_count": null,
   "id": "ede23fd6",
   "metadata": {},
   "outputs": [],
   "source": [
    "df.info()"
   ]
  },
  {
   "cell_type": "code",
   "execution_count": 95,
   "id": "a4cf5da2",
   "metadata": {},
   "outputs": [
    {
     "data": {
      "text/plain": [
       "Catwoman    1\n",
       "Alfred      1\n",
       "Batman      1\n",
       "Name: name, dtype: int64"
      ]
     },
     "execution_count": 95,
     "metadata": {},
     "output_type": "execute_result"
    }
   ],
   "source": [
    "#count  unique element\n",
    "# after type value click tab and wait it notebook will prompt you the suggestion.\n",
    "df['name'].value_counts(dropna = False)"
   ]
  },
  {
   "cell_type": "markdown",
   "id": "c2ce8722",
   "metadata": {},
   "source": [
    "# Exercise"
   ]
  },
  {
   "cell_type": "code",
   "execution_count": 107,
   "id": "ac4e3c95",
   "metadata": {},
   "outputs": [],
   "source": [
    "#### create a dataframe which contains only integer with 3 rows and 2 columns\n",
    "#### run following dataframe methods on them\n",
    "\n",
    "df1 = pd.DataFrame(np.random.randint(10,size=(3,2)),index=np.arange(3))"
   ]
  },
  {
   "cell_type": "code",
   "execution_count": 108,
   "id": "e2033322",
   "metadata": {},
   "outputs": [
    {
     "data": {
      "text/html": [
       "<div>\n",
       "<style scoped>\n",
       "    .dataframe tbody tr th:only-of-type {\n",
       "        vertical-align: middle;\n",
       "    }\n",
       "\n",
       "    .dataframe tbody tr th {\n",
       "        vertical-align: top;\n",
       "    }\n",
       "\n",
       "    .dataframe thead th {\n",
       "        text-align: right;\n",
       "    }\n",
       "</style>\n",
       "<table border=\"1\" class=\"dataframe\">\n",
       "  <thead>\n",
       "    <tr style=\"text-align: right;\">\n",
       "      <th></th>\n",
       "      <th>0</th>\n",
       "      <th>1</th>\n",
       "    </tr>\n",
       "  </thead>\n",
       "  <tbody>\n",
       "    <tr>\n",
       "      <th>0</th>\n",
       "      <td>3</td>\n",
       "      <td>6</td>\n",
       "    </tr>\n",
       "    <tr>\n",
       "      <th>1</th>\n",
       "      <td>3</td>\n",
       "      <td>7</td>\n",
       "    </tr>\n",
       "    <tr>\n",
       "      <th>2</th>\n",
       "      <td>0</td>\n",
       "      <td>7</td>\n",
       "    </tr>\n",
       "  </tbody>\n",
       "</table>\n",
       "</div>"
      ],
      "text/plain": [
       "   0  1\n",
       "0  3  6\n",
       "1  3  7\n",
       "2  0  7"
      ]
     },
     "execution_count": 108,
     "metadata": {},
     "output_type": "execute_result"
    }
   ],
   "source": [
    "df1"
   ]
  },
  {
   "cell_type": "code",
   "execution_count": 109,
   "id": "e12b8927",
   "metadata": {},
   "outputs": [
    {
     "data": {
      "text/html": [
       "<div>\n",
       "<style scoped>\n",
       "    .dataframe tbody tr th:only-of-type {\n",
       "        vertical-align: middle;\n",
       "    }\n",
       "\n",
       "    .dataframe tbody tr th {\n",
       "        vertical-align: top;\n",
       "    }\n",
       "\n",
       "    .dataframe thead th {\n",
       "        text-align: right;\n",
       "    }\n",
       "</style>\n",
       "<table border=\"1\" class=\"dataframe\">\n",
       "  <thead>\n",
       "    <tr style=\"text-align: right;\">\n",
       "      <th></th>\n",
       "      <th>0</th>\n",
       "      <th>1</th>\n",
       "    </tr>\n",
       "  </thead>\n",
       "  <tbody>\n",
       "    <tr>\n",
       "      <th>count</th>\n",
       "      <td>3.000000</td>\n",
       "      <td>3.000000</td>\n",
       "    </tr>\n",
       "    <tr>\n",
       "      <th>mean</th>\n",
       "      <td>2.000000</td>\n",
       "      <td>6.666667</td>\n",
       "    </tr>\n",
       "    <tr>\n",
       "      <th>std</th>\n",
       "      <td>1.732051</td>\n",
       "      <td>0.577350</td>\n",
       "    </tr>\n",
       "    <tr>\n",
       "      <th>min</th>\n",
       "      <td>0.000000</td>\n",
       "      <td>6.000000</td>\n",
       "    </tr>\n",
       "    <tr>\n",
       "      <th>25%</th>\n",
       "      <td>1.500000</td>\n",
       "      <td>6.500000</td>\n",
       "    </tr>\n",
       "    <tr>\n",
       "      <th>50%</th>\n",
       "      <td>3.000000</td>\n",
       "      <td>7.000000</td>\n",
       "    </tr>\n",
       "    <tr>\n",
       "      <th>75%</th>\n",
       "      <td>3.000000</td>\n",
       "      <td>7.000000</td>\n",
       "    </tr>\n",
       "    <tr>\n",
       "      <th>max</th>\n",
       "      <td>3.000000</td>\n",
       "      <td>7.000000</td>\n",
       "    </tr>\n",
       "  </tbody>\n",
       "</table>\n",
       "</div>"
      ],
      "text/plain": [
       "              0         1\n",
       "count  3.000000  3.000000\n",
       "mean   2.000000  6.666667\n",
       "std    1.732051  0.577350\n",
       "min    0.000000  6.000000\n",
       "25%    1.500000  6.500000\n",
       "50%    3.000000  7.000000\n",
       "75%    3.000000  7.000000\n",
       "max    3.000000  7.000000"
      ]
     },
     "execution_count": 109,
     "metadata": {},
     "output_type": "execute_result"
    }
   ],
   "source": [
    "df1.describe()"
   ]
  },
  {
   "cell_type": "code",
   "execution_count": 110,
   "id": "b357fa57",
   "metadata": {},
   "outputs": [
    {
     "data": {
      "text/plain": [
       "0    2.000000\n",
       "1    6.666667\n",
       "dtype: float64"
      ]
     },
     "execution_count": 110,
     "metadata": {},
     "output_type": "execute_result"
    }
   ],
   "source": [
    "df1.mean()\n"
   ]
  },
  {
   "cell_type": "code",
   "execution_count": 111,
   "id": "8987c063",
   "metadata": {},
   "outputs": [
    {
     "data": {
      "text/html": [
       "<div>\n",
       "<style scoped>\n",
       "    .dataframe tbody tr th:only-of-type {\n",
       "        vertical-align: middle;\n",
       "    }\n",
       "\n",
       "    .dataframe tbody tr th {\n",
       "        vertical-align: top;\n",
       "    }\n",
       "\n",
       "    .dataframe thead th {\n",
       "        text-align: right;\n",
       "    }\n",
       "</style>\n",
       "<table border=\"1\" class=\"dataframe\">\n",
       "  <thead>\n",
       "    <tr style=\"text-align: right;\">\n",
       "      <th></th>\n",
       "      <th>0</th>\n",
       "      <th>1</th>\n",
       "    </tr>\n",
       "  </thead>\n",
       "  <tbody>\n",
       "    <tr>\n",
       "      <th>0</th>\n",
       "      <td>1.0</td>\n",
       "      <td>-0.5</td>\n",
       "    </tr>\n",
       "    <tr>\n",
       "      <th>1</th>\n",
       "      <td>-0.5</td>\n",
       "      <td>1.0</td>\n",
       "    </tr>\n",
       "  </tbody>\n",
       "</table>\n",
       "</div>"
      ],
      "text/plain": [
       "     0    1\n",
       "0  1.0 -0.5\n",
       "1 -0.5  1.0"
      ]
     },
     "execution_count": 111,
     "metadata": {},
     "output_type": "execute_result"
    }
   ],
   "source": [
    "df1.corr()"
   ]
  },
  {
   "cell_type": "code",
   "execution_count": 112,
   "id": "24bf3f57",
   "metadata": {},
   "outputs": [
    {
     "data": {
      "text/plain": [
       "0    3\n",
       "1    3\n",
       "dtype: int64"
      ]
     },
     "execution_count": 112,
     "metadata": {},
     "output_type": "execute_result"
    }
   ],
   "source": [
    "df1.count()"
   ]
  },
  {
   "cell_type": "code",
   "execution_count": 113,
   "id": "4e032200",
   "metadata": {},
   "outputs": [
    {
     "data": {
      "text/plain": [
       "0    3\n",
       "1    7\n",
       "dtype: int32"
      ]
     },
     "execution_count": 113,
     "metadata": {},
     "output_type": "execute_result"
    }
   ],
   "source": [
    "df1.max()"
   ]
  },
  {
   "cell_type": "code",
   "execution_count": 114,
   "id": "4cdc6783",
   "metadata": {},
   "outputs": [
    {
     "data": {
      "text/plain": [
       "0    0\n",
       "1    6\n",
       "dtype: int32"
      ]
     },
     "execution_count": 114,
     "metadata": {},
     "output_type": "execute_result"
    }
   ],
   "source": [
    "df1.min()"
   ]
  },
  {
   "cell_type": "code",
   "execution_count": 116,
   "id": "24cc0383",
   "metadata": {},
   "outputs": [
    {
     "data": {
      "text/plain": [
       "0    3.0\n",
       "1    7.0\n",
       "dtype: float64"
      ]
     },
     "execution_count": 116,
     "metadata": {},
     "output_type": "execute_result"
    }
   ],
   "source": [
    "df1.median()"
   ]
  },
  {
   "cell_type": "code",
   "execution_count": 117,
   "id": "da2ae9c5",
   "metadata": {},
   "outputs": [
    {
     "data": {
      "text/plain": [
       "0    1.732051\n",
       "1    0.577350\n",
       "dtype: float64"
      ]
     },
     "execution_count": 117,
     "metadata": {},
     "output_type": "execute_result"
    }
   ],
   "source": [
    "df1.std()"
   ]
  },
  {
   "cell_type": "code",
   "execution_count": null,
   "id": "b466941a",
   "metadata": {},
   "outputs": [],
   "source": []
  }
 ],
 "metadata": {
  "kernelspec": {
   "display_name": "Python 3",
   "language": "python",
   "name": "python3"
  },
  "language_info": {
   "codemirror_mode": {
    "name": "ipython",
    "version": 3
   },
   "file_extension": ".py",
   "mimetype": "text/x-python",
   "name": "python",
   "nbconvert_exporter": "python",
   "pygments_lexer": "ipython3",
   "version": "3.8.8"
  }
 },
 "nbformat": 4,
 "nbformat_minor": 5
}
